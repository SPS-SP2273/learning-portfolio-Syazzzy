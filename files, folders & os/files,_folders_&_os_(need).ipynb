{
 "cells": [
  {
   "attachments": {},
   "cell_type": "markdown",
   "id": "123456",
   "metadata": {},
   "source": [
    "<div style=\"text-align:left;font-size:2em\"><span style=\"font-weight:bolder;font-size:1.25em\">SP2273 | Learning Portfolio</span><br><br><span style=\"font-weight:bold;color:darkred\">Files, Folders & OS (Need)</span></div>"
   ]
  },
  {
   "attachments": {},
   "cell_type": "markdown",
   "id": "d14a2806",
   "metadata": {},
   "source": [
    "# What to expect in this chapter"
   ]
  },
  {
   "attachments": {},
   "cell_type": "markdown",
   "id": "f16e3faa",
   "metadata": {},
   "source": [
    "# 1 Important concepts"
   ]
  },
  {
   "attachments": {},
   "cell_type": "markdown",
   "id": "ec0772c2",
   "metadata": {},
   "source": [
    "## 1.1 Path"
   ]
  },
  {
   "cell_type": "markdown",
   "id": "631633d9-737d-425f-a8d4-c1ee0ee888e9",
   "metadata": {},
   "source": [
    "The path is a way to specify a location on your computer. It is like an address, and if you follow the path, it will take you to your file or folder."
   ]
  },
  {
   "cell_type": "markdown",
   "id": "22f98b00-0e59-4d02-a0f5-cee914445ae9",
   "metadata": {},
   "source": [
    "C:\\\\Users\\Chammika\\Desktop\\data-01.txt"
   ]
  },
  {
   "attachments": {},
   "cell_type": "markdown",
   "id": "1ee22bd0",
   "metadata": {},
   "source": [
    "## 1.2 More about relative paths"
   ]
  },
  {
   "cell_type": "markdown",
   "id": "c3053357-3e02-43fe-8c5d-8e1215a8bb52",
   "metadata": {},
   "source": [
    "| **Notation** |     **Meaning**    |\n",
    "|:------------:|:------------------:|\n",
    "|       .      |    ‘this folder’   |\n",
    "|      ..      | ‘one folder above’ |"
   ]
  },
  {
   "cell_type": "markdown",
   "id": "0d2cc382-0456-471f-ba33-5b06e2105d5d",
   "metadata": {},
   "source": [
    "- `.\\data-files\\data-01.txt` means the file `data-01.txt` in the folder `data-files` in the **current** folder.\n",
    "- `..\\data-files\\data-01.txt` means the file `data-01.txt` in the folder `data-files` located in the folder **above**."
   ]
  },
  {
   "attachments": {},
   "cell_type": "markdown",
   "id": "4c2297e8",
   "metadata": {},
   "source": [
    "### macOS or Linux"
   ]
  },
  {
   "cell_type": "markdown",
   "id": "69b2c445-2b97-41ba-a5a1-c0b64579f880",
   "metadata": {},
   "source": [
    "- macOS and Linux allow you to use ~ to refer to your home directory"
   ]
  },
  {
   "cell_type": "markdown",
   "id": "716b057b-4a56-4c41-bd07-fbb687fa3128",
   "metadata": {},
   "source": [
    "`~\\Desktop\\data-01.txt`"
   ]
  },
  {
   "attachments": {},
   "cell_type": "markdown",
   "id": "aa38876d",
   "metadata": {},
   "source": [
    "## 1.3 Path separator"
   ]
  },
  {
   "cell_type": "markdown",
   "id": "a69ea20e-0b76-4d9b-927c-3e8df016fdd8",
   "metadata": {},
   "source": [
    "Windows uses \\ as the path separator while macOS (or Linux) uses /. So, the absolute path to a file on the Desktop on each of these systems will look like this:\n",
    "\n"
   ]
  },
  {
   "cell_type": "markdown",
   "id": "42ccbd4c-0bb6-4a41-a1d1-65162b23c40f",
   "metadata": {},
   "source": [
    "|                  |                                          |\r\n",
    "|:----------------:|------------------------------------------|\r\n",
    "|      Windows     | `C:\\\\Users\\chammika\\Desktop\\data-01.txt` |\r\n",
    "| macOS (or Linux) | `/Users/chammika/Desktop/data-01.txt`    | |"
   ]
  },
  {
   "attachments": {},
   "cell_type": "markdown",
   "id": "9013328c",
   "metadata": {},
   "source": [
    "## 1.4 Text files vs. Binary files"
   ]
  },
  {
   "cell_type": "markdown",
   "id": "d65f0140-1589-4553-b0c6-a6b9ca7fa964",
   "metadata": {},
   "source": [
    "- Text files are simple and can be opened, and their contents examined by almost any software.\n",
    "\n",
    "- Binary files require some processing to make sense of what they contain. Some reasons for having binary files are speed and size; text files, though simple, can get bulky."
   ]
  },
  {
   "attachments": {},
   "cell_type": "markdown",
   "id": "0a6cfb4d",
   "metadata": {},
   "source": [
    "## 1.5 Extensions"
   ]
  },
  {
   "cell_type": "markdown",
   "id": "ffd789bf-ec45-445d-9cf6-10e0840ecca0",
   "metadata": {},
   "source": [
    "- Files are usually named to end with an extension separated from the name by a . like name.extension.\n",
    "- Be careful about changing the extension of a file"
   ]
  },
  {
   "attachments": {},
   "cell_type": "markdown",
   "id": "c172ab8a",
   "metadata": {},
   "source": [
    "# 2 Opening and closing files"
   ]
  },
  {
   "attachments": {},
   "cell_type": "markdown",
   "id": "785a5932",
   "metadata": {},
   "source": [
    "## 2.1 Reading data"
   ]
  },
  {
   "cell_type": "markdown",
   "id": "210ad1d4-43d0-4234-9498-78a2ce570291",
   "metadata": {},
   "source": [
    "```ruby\n",
    "with open('spectrum-01.txt', 'r') as file:\n",
    "    file_content = file.read()\n",
    "\n",
    "print(file_content)\n",
    "```"
   ]
  },
  {
   "attachments": {},
   "cell_type": "markdown",
   "id": "7a5177b2",
   "metadata": {},
   "source": [
    "## 2.2 Writing data"
   ]
  },
  {
   "cell_type": "markdown",
   "id": "15fe9547-424c-4407-9c14-57f543d5b071",
   "metadata": {},
   "source": [
    "```ruby\n",
    "text = 'Far out in the uncharted backwaters of the unfashionable end of the western spiral arm of the Galaxy lies a small unregarded yellow sun.\\nOrbiting this at a distance of roughly ninety-two million miles is an utterly insignificant little blue green planet whose ape-descended life forms are so amazingly primitive that they still think digital watches are a pretty neat idea.'\n",
    "```"
   ]
  },
  {
   "attachments": {},
   "cell_type": "markdown",
   "id": "b2245d2e",
   "metadata": {},
   "source": [
    "### Writing to a file in one go"
   ]
  },
  {
   "cell_type": "markdown",
   "id": "31c40d9c-800b-44ff-9365-85b083446875",
   "metadata": {},
   "source": [
    "```ruby\n",
    "with open('my-text-once.txt', 'w') as file:\n",
    "    file.write(text)\n",
    "```"
   ]
  },
  {
   "attachments": {},
   "cell_type": "markdown",
   "id": "c630e7e7",
   "metadata": {},
   "source": [
    "### Writing to a file, line by line"
   ]
  },
  {
   "cell_type": "markdown",
   "id": "d81d9d7c-8a41-4b72-a6b7-6a9027af3f42",
   "metadata": {},
   "source": [
    "```ruby\n",
    "with open('my-text-lines.txt', 'w') as file:\n",
    "    for line in text.splitlines():\n",
    "        file.writelines(line)\n",
    "```"
   ]
  },
  {
   "attachments": {},
   "cell_type": "markdown",
   "id": "858589f9",
   "metadata": {},
   "source": [
    "# 3 Some useful packages"
   ]
  },
  {
   "cell_type": "markdown",
   "id": "e80e258e-edd5-4662-920b-ca5d38acb34f",
   "metadata": {},
   "source": [
    "| **Package** | **Primarily used for**                                                            |\n",
    "|-------------|-----------------------------------------------------------------------------------|\n",
    "| os          | To ‘talk’ to the OS to create, modify, delete folders and write OS-agnostic code. |\n",
    "| glob        | To search for files.                                                              |\n",
    "| shutil      | To copy files.                                                                    |"
   ]
  },
  {
   "cell_type": "code",
   "execution_count": 20,
   "id": "d8ede5a6-882c-4351-9cd3-472cd74f0add",
   "metadata": {},
   "outputs": [],
   "source": [
    "import os\n",
    "import glob\n",
    "import shutil"
   ]
  },
  {
   "attachments": {},
   "cell_type": "markdown",
   "id": "67448e30",
   "metadata": {},
   "source": [
    "# 4 OS safe paths"
   ]
  },
  {
   "cell_type": "code",
   "execution_count": 21,
   "id": "01d139ca-704f-4ee5-8b93-66936939d27e",
   "metadata": {},
   "outputs": [
    {
     "name": "stdout",
     "output_type": "stream",
     "text": [
      ".\\all-data\\sg-data\\data-01.txt\n"
     ]
    }
   ],
   "source": [
    "path = os.path.join('.', 'all-data', 'sg-data', 'data-01.txt')\n",
    "print(path)"
   ]
  },
  {
   "cell_type": "markdown",
   "id": "0e224bb5-952d-42ba-953e-d4b63ffede7d",
   "metadata": {},
   "source": [
    "- windows"
   ]
  },
  {
   "cell_type": "markdown",
   "id": "2a82144c-17f3-43e2-a077-8db97f8bff8f",
   "metadata": {},
   "source": [
    "```ruby\n",
    "'.\\\\all-data\\\\sg-data\\\\data-01.txt'\n",
    "```"
   ]
  },
  {
   "cell_type": "markdown",
   "id": "cd59d6bf-9f15-47d9-9dfe-58ca1fe7158b",
   "metadata": {},
   "source": [
    "- otherwise"
   ]
  },
  {
   "cell_type": "markdown",
   "id": "12755bdd-35d7-4434-b807-43e9081d1440",
   "metadata": {},
   "source": [
    "```ruby\n",
    "'.\\\\all-data\\\\sg-data\\\\data-01.txt'\n",
    "```"
   ]
  },
  {
   "attachments": {},
   "cell_type": "markdown",
   "id": "9df1eb75",
   "metadata": {},
   "source": [
    "# 5 Folders"
   ]
  },
  {
   "attachments": {},
   "cell_type": "markdown",
   "id": "be77b18a",
   "metadata": {},
   "source": [
    "## 5.1 Creating folders"
   ]
  },
  {
   "cell_type": "code",
   "execution_count": 22,
   "id": "c25d9593-fac4-448d-9d79-ca965db6cddd",
   "metadata": {},
   "outputs": [
    {
     "name": "stdout",
     "output_type": "stream",
     "text": [
      "Creating people\\John\n",
      "Creating people\\Paul\n",
      "Creating people\\Ringo\n"
     ]
    }
   ],
   "source": [
    "os.mkdir('people')\n",
    "\n",
    "for person in ['John', 'Paul', 'Ringo']:\n",
    "    path = os.path.join('people', person)\n",
    "    print(f'Creating {path}')\n",
    "    os.mkdir(path)"
   ]
  },
  {
   "attachments": {},
   "cell_type": "markdown",
   "id": "0ce1ebd4",
   "metadata": {},
   "source": [
    "## 5.2 Checking for existence"
   ]
  },
  {
   "attachments": {},
   "cell_type": "markdown",
   "id": "6a5d798d",
   "metadata": {},
   "source": [
    "### Using try-except"
   ]
  },
  {
   "cell_type": "code",
   "execution_count": 23,
   "id": "e1aef56c-287d-4ca9-b420-a079ad3018e1",
   "metadata": {},
   "outputs": [
    {
     "name": "stdout",
     "output_type": "stream",
     "text": [
      "people\\John already exists; skipping creation.\n",
      "people\\Paul already exists; skipping creation.\n",
      "people\\Ringo already exists; skipping creation.\n"
     ]
    }
   ],
   "source": [
    "for person in ['John', 'Paul', 'Ringo']:\n",
    "    path = os.path.join('people', person)\n",
    "    try:\n",
    "        os.mkdir(path)\n",
    "        print(f'Creating {path}')\n",
    "    except FileExistsError:\n",
    "        print(f'{path} already exists; skipping creation.')"
   ]
  },
  {
   "attachments": {},
   "cell_type": "markdown",
   "id": "f6e6f808",
   "metadata": {},
   "source": [
    "### Using os.path.exists()"
   ]
  },
  {
   "cell_type": "code",
   "execution_count": 24,
   "id": "16bcdde9-8c10-48c5-8898-fa3e507b2234",
   "metadata": {},
   "outputs": [
    {
     "name": "stdout",
     "output_type": "stream",
     "text": [
      "people\\John already exists; skipping creation.\n",
      "people\\Paul already exists; skipping creation.\n",
      "people\\Ringo already exists; skipping creation.\n"
     ]
    }
   ],
   "source": [
    "for person in ['John', 'Paul', 'Ringo']:\n",
    "    path = os.path.join('people', person)\n",
    "    if os.path.exists(path):\n",
    "        print(f'{path} already exists; skipping creation.')\n",
    "    else:\n",
    "        os.mkdir(path)\n",
    "        print(f'Creating {path}')"
   ]
  },
  {
   "attachments": {},
   "cell_type": "markdown",
   "id": "ee3a1eff",
   "metadata": {},
   "source": [
    "## 5.3 Copying files"
   ]
  },
  {
   "cell_type": "code",
   "execution_count": 26,
   "id": "f787b32b-d655-47e3-bcb5-c7523bc5a994",
   "metadata": {},
   "outputs": [
    {
     "name": "stdout",
     "output_type": "stream",
     "text": [
      "Copied file to people\\John\n",
      "Copied file to people\\Paul\n",
      "Copied file to people\\Ringo\n"
     ]
    }
   ],
   "source": [
    "for person in ['John', 'Paul', 'Ringo']:\n",
    "    path_to_destination = os.path.join('people', person)\n",
    "    shutil.copy('sp2273_logo.png', path_to_destination)\n",
    "    print(f'Copied file to {path_to_destination}')"
   ]
  },
  {
   "cell_type": "code",
   "execution_count": 27,
   "id": "8cb01636-be81-4e6e-bb23-0e80cc890719",
   "metadata": {},
   "outputs": [
    {
     "name": "stdout",
     "output_type": "stream",
     "text": [
      "Moved logo to people\\John\\imgs\\sp2273_logo.png\n",
      "Moved logo to people\\Paul\\imgs\\sp2273_logo.png\n",
      "Moved logo to people\\Ringo\\imgs\\sp2273_logo.png\n"
     ]
    }
   ],
   "source": [
    "for person in ['John', 'Paul', 'Ringo']:\n",
    "    # Create folder 'imgs'\n",
    "    path_to_imgs = os.path.join('people', person, 'imgs')\n",
    "    if not os.path.exists(path_to_imgs):\n",
    "        os.mkdir(path_to_imgs)\n",
    "\n",
    "    # Move logo file\n",
    "    current_path_of_logo = os.path.join('people', person, 'sp2273_logo.png')\n",
    "    new_path_of_logo = os.path.join('people', person, 'imgs', 'sp2273_logo.png')\n",
    "\n",
    "    shutil.move(current_path_of_logo, new_path_of_logo)\n",
    "    print(f'Moved logo to {new_path_of_logo}')"
   ]
  },
  {
   "attachments": {},
   "cell_type": "markdown",
   "id": "55fbea22",
   "metadata": {},
   "source": [
    "# 6 Listing and looking for files"
   ]
  },
  {
   "cell_type": "markdown",
   "id": "a6a19329-2536-4335-8dc7-2d6825c83dd4",
   "metadata": {},
   "source": [
    "**Example 1**"
   ]
  },
  {
   "cell_type": "markdown",
   "id": "2013fe6a-a7db-469d-a052-0b79262e5711",
   "metadata": {},
   "source": [
    "The * is called a wildcard and is read as ‘anything’. So, I am asking glob to give me anything in the folder."
   ]
  },
  {
   "cell_type": "code",
   "execution_count": 28,
   "id": "cace8b58-c8f5-4364-b07f-b8dfe975474d",
   "metadata": {},
   "outputs": [
    {
     "data": {
      "text/plain": [
       "['files,_folders_&_os_(need).ipynb', 'people', 'sp2273_logo.png', 'test.txt']"
      ]
     },
     "execution_count": 28,
     "metadata": {},
     "output_type": "execute_result"
    }
   ],
   "source": [
    "glob.glob('*')"
   ]
  },
  {
   "cell_type": "markdown",
   "id": "5131718b-9a2c-4506-9cd5-131fb67180d8",
   "metadata": {},
   "source": [
    "**Example 2**"
   ]
  },
  {
   "cell_type": "markdown",
   "id": "021c9a2c-c9af-42da-8763-14a7a72eab5f",
   "metadata": {},
   "source": [
    "Refine my search and ask glob to give only those files that match the pattern ‘peo’ followed by ‘anything’."
   ]
  },
  {
   "cell_type": "code",
   "execution_count": 29,
   "id": "73916bd2-f9fa-4b63-965c-8f430c1a4c8c",
   "metadata": {},
   "outputs": [
    {
     "data": {
      "text/plain": [
       "['people']"
      ]
     },
     "execution_count": 29,
     "metadata": {},
     "output_type": "execute_result"
    }
   ],
   "source": [
    "glob.glob('peo*')"
   ]
  },
  {
   "cell_type": "markdown",
   "id": "063083ff-4729-4449-a06f-a00d973915c6",
   "metadata": {},
   "source": [
    "**Example 3**"
   ]
  },
  {
   "cell_type": "markdown",
   "id": "1f3e173e-121c-49df-a371-18d68d8164b3",
   "metadata": {},
   "source": [
    "I now want to know what is inside the folders that start with peo."
   ]
  },
  {
   "cell_type": "code",
   "execution_count": 30,
   "id": "b94a4473-6173-4cee-9342-5b1b61e2b617",
   "metadata": {},
   "outputs": [
    {
     "data": {
      "text/plain": [
       "['people\\\\John', 'people\\\\Paul', 'people\\\\Ringo']"
      ]
     },
     "execution_count": 30,
     "metadata": {},
     "output_type": "execute_result"
    }
   ],
   "source": [
    "glob.glob('peo*/*')"
   ]
  },
  {
   "cell_type": "markdown",
   "id": "c20a9d9b-0e47-4d55-a1c4-eb0cb89cf3e4",
   "metadata": {},
   "source": [
    "**Example 4**"
   ]
  },
  {
   "cell_type": "markdown",
   "id": "78ad0d79-2f0e-434b-a54d-45b6b6b721ca",
   "metadata": {},
   "source": [
    "I want to see the whole, detailed structure of the folder people"
   ]
  },
  {
   "cell_type": "code",
   "execution_count": 31,
   "id": "f66b3fa5-d973-48c4-90fc-40a544b461ed",
   "metadata": {},
   "outputs": [
    {
     "data": {
      "text/plain": [
       "['people\\\\',\n",
       " 'people\\\\John',\n",
       " 'people\\\\John\\\\imgs',\n",
       " 'people\\\\John\\\\imgs\\\\sp2273_logo.png',\n",
       " 'people\\\\Paul',\n",
       " 'people\\\\Paul\\\\imgs',\n",
       " 'people\\\\Paul\\\\imgs\\\\sp2273_logo.png',\n",
       " 'people\\\\Ringo',\n",
       " 'people\\\\Ringo\\\\imgs',\n",
       " 'people\\\\Ringo\\\\imgs\\\\sp2273_logo.png']"
      ]
     },
     "execution_count": 31,
     "metadata": {},
     "output_type": "execute_result"
    }
   ],
   "source": [
    "glob.glob('people/**', recursive=True)"
   ]
  },
  {
   "cell_type": "markdown",
   "id": "0fb65be3-5848-4479-89dc-efa5965e325b",
   "metadata": {},
   "source": [
    "**Example 5**"
   ]
  },
  {
   "cell_type": "markdown",
   "id": "d108da94-6a01-4103-be86-56cc14070813",
   "metadata": {},
   "source": [
    "I want only the .png files"
   ]
  },
  {
   "cell_type": "code",
   "execution_count": 32,
   "id": "19a8201b-5af2-453f-bdba-8bf36c8bc676",
   "metadata": {},
   "outputs": [
    {
     "data": {
      "text/plain": [
       "['people\\\\John\\\\imgs\\\\sp2273_logo.png',\n",
       " 'people\\\\Paul\\\\imgs\\\\sp2273_logo.png',\n",
       " 'people\\\\Ringo\\\\imgs\\\\sp2273_logo.png']"
      ]
     },
     "execution_count": 32,
     "metadata": {},
     "output_type": "execute_result"
    }
   ],
   "source": [
    "glob.glob('people/**/*.png', recursive=True)"
   ]
  },
  {
   "attachments": {},
   "cell_type": "markdown",
   "id": "896e9ef9",
   "metadata": {},
   "source": [
    "# 7 Extracting file info"
   ]
  },
  {
   "cell_type": "code",
   "execution_count": 33,
   "id": "af4f6e70-190d-4acd-934c-3afbbde03349",
   "metadata": {},
   "outputs": [
    {
     "name": "stdout",
     "output_type": "stream",
     "text": [
      "people/Ringo/imgs/sp2273_logo.png png\n"
     ]
    }
   ],
   "source": [
    "path = 'people/Ringo/imgs/sp2273_logo.png'\n",
    "filename = path.split(os.path.sep)[-1]\n",
    "extension = filename.split('.')[-1]\n",
    "print(filename, extension)"
   ]
  },
  {
   "cell_type": "code",
   "execution_count": 34,
   "id": "ec173de8-44b5-436b-ac52-cfa3991b537e",
   "metadata": {},
   "outputs": [],
   "source": [
    "path = 'people/Ringo/imgs/sp2273_logo.png'"
   ]
  },
  {
   "cell_type": "code",
   "execution_count": 35,
   "id": "b1380c97-d4a6-4bd6-ac41-fa81c2384162",
   "metadata": {},
   "outputs": [
    {
     "data": {
      "text/plain": [
       "('people/Ringo/imgs', 'sp2273_logo.png')"
      ]
     },
     "execution_count": 35,
     "metadata": {},
     "output_type": "execute_result"
    }
   ],
   "source": [
    "os.path.split(path)      # Split filename from the rest"
   ]
  },
  {
   "cell_type": "code",
   "execution_count": 36,
   "id": "902067e3-a5f7-4f8b-9123-9e9c7e37ec93",
   "metadata": {},
   "outputs": [
    {
     "data": {
      "text/plain": [
       "('people/Ringo/imgs/sp2273_logo', '.png')"
      ]
     },
     "execution_count": 36,
     "metadata": {},
     "output_type": "execute_result"
    }
   ],
   "source": [
    "os.path.splitext(path)   # Split extension"
   ]
  },
  {
   "cell_type": "code",
   "execution_count": 37,
   "id": "c87d4f82-b72a-48bb-a3b6-41c1d7669b43",
   "metadata": {},
   "outputs": [
    {
     "data": {
      "text/plain": [
       "'people/Ringo/imgs'"
      ]
     },
     "execution_count": 37,
     "metadata": {},
     "output_type": "execute_result"
    }
   ],
   "source": [
    "os.path.dirname(path)    # Show the directory"
   ]
  },
  {
   "attachments": {},
   "cell_type": "markdown",
   "id": "09e6d956",
   "metadata": {},
   "source": [
    "# 8 Deleting stuff"
   ]
  },
  {
   "cell_type": "code",
   "execution_count": 38,
   "id": "697a0c33-47b8-4662-abc9-1bbd581fece2",
   "metadata": {},
   "outputs": [],
   "source": [
    "os.remove('people/Ringo/imgs/sp2273_logo.png')"
   ]
  },
  {
   "cell_type": "code",
   "execution_count": 48,
   "id": "e94b5ce5-4a7c-485b-beb9-718686e70d51",
   "metadata": {},
   "outputs": [],
   "source": [
    "os.mkdir(os.path.join('people', 'Ringo'))\n",
    "os.rmdir('people/Ringo')"
   ]
  },
  {
   "cell_type": "code",
   "execution_count": 50,
   "id": "cb314213-489a-4a78-9a17-6bc377198e76",
   "metadata": {},
   "outputs": [],
   "source": [
    "os.mkdir(os.path.join('people', 'Ringo'))\n",
    "shutil.rmtree('people/Ringo')"
   ]
  }
 ],
 "metadata": {
  "kernelspec": {
   "display_name": "Python 3 (ipykernel)",
   "language": "python",
   "name": "python3"
  },
  "language_info": {
   "codemirror_mode": {
    "name": "ipython",
    "version": 3
   },
   "file_extension": ".py",
   "mimetype": "text/x-python",
   "name": "python",
   "nbconvert_exporter": "python",
   "pygments_lexer": "ipython3",
   "version": "3.11.5"
  },
  "toc": {
   "base_numbering": 1,
   "nav_menu": {},
   "number_sections": true,
   "sideBar": true,
   "skip_h1_title": false,
   "title_cell": "Table of Contents",
   "title_sidebar": "Contents",
   "toc_cell": false,
   "toc_position": {},
   "toc_section_display": true,
   "toc_window_display": false
  },
  "vscode": {
   "interpreter": {
    "hash": "31f2aee4e71d21fbe5cf8b01ff0e069b9275f58929596ceb00d14d90e3e16cd6"
   }
  }
 },
 "nbformat": 4,
 "nbformat_minor": 5
}
