{
 "cells": [
  {
   "attachments": {},
   "cell_type": "markdown",
   "id": "123456",
   "metadata": {},
   "source": [
    "<div style=\"text-align:left;font-size:2em\"><span style=\"font-weight:bolder;font-size:1.25em\">SP2273 | Learning Portfolio</span><br><br><span style=\"font-weight:bold;color:darkred\">Functions (Nice)</span></div>"
   ]
  },
  {
   "attachments": {},
   "cell_type": "markdown",
   "id": "d7a1ccc4",
   "metadata": {},
   "source": [
    "# 1 Modularise and reuse"
   ]
  },
  {
   "attachments": {},
   "cell_type": "markdown",
   "id": "2a6ad06a",
   "metadata": {},
   "source": [
    "# 2 The many ways to pass arguments"
   ]
  },
  {
   "attachments": {},
   "cell_type": "markdown",
   "id": "3bec344d",
   "metadata": {},
   "source": [
    "## 2.1 *args & **kwarg"
   ]
  },
  {
   "attachments": {},
   "cell_type": "markdown",
   "id": "179889a8",
   "metadata": {},
   "source": [
    "### *args"
   ]
  },
  {
   "cell_type": "markdown",
   "id": "dd13a79a-5f6a-4ede-81b7-b90e624af16c",
   "metadata": {},
   "source": [
    "**Example 1**"
   ]
  },
  {
   "cell_type": "code",
   "execution_count": 2,
   "id": "e6c93a83",
   "metadata": {},
   "outputs": [
    {
     "data": {
      "text/plain": [
       "2"
      ]
     },
     "execution_count": 2,
     "metadata": {},
     "output_type": "execute_result"
    }
   ],
   "source": [
    "def multiply(x, y):\n",
    "    return x * y\n",
    "\n",
    "numbers = [1, 2]\n",
    "multiply(*numbers)"
   ]
  },
  {
   "cell_type": "markdown",
   "id": "9ccebc47-3ce9-4384-b700-9d1910cb811e",
   "metadata": {},
   "source": [
    "**Example 2**"
   ]
  },
  {
   "cell_type": "code",
   "execution_count": 10,
   "id": "6a2ce71f-c77f-4552-bcb9-6268eabfc3fb",
   "metadata": {},
   "outputs": [],
   "source": [
    "def multiply(*args):\n",
    "    result = 1\n",
    "    for number in args:\n",
    "        result *= number\n",
    "\n",
    "    return result\n",
    "\n",
    "numbers = [1, 2, 3]"
   ]
  },
  {
   "cell_type": "code",
   "execution_count": 9,
   "id": "adc29cc7-d9e3-4a58-8f52-47d11c9fffa2",
   "metadata": {},
   "outputs": [
    {
     "data": {
      "text/plain": [
       "6"
      ]
     },
     "execution_count": 9,
     "metadata": {},
     "output_type": "execute_result"
    }
   ],
   "source": [
    "multiply(*numbers)"
   ]
  },
  {
   "cell_type": "code",
   "execution_count": 11,
   "id": "e050e3df-70c5-4469-918d-217e14c9913b",
   "metadata": {},
   "outputs": [
    {
     "data": {
      "text/plain": [
       "120"
      ]
     },
     "execution_count": 11,
     "metadata": {},
     "output_type": "execute_result"
    }
   ],
   "source": [
    "multiply(1, 2, 3, 4, 5)"
   ]
  },
  {
   "attachments": {},
   "cell_type": "markdown",
   "id": "a2abd1fd",
   "metadata": {},
   "source": [
    "### **kwargs"
   ]
  },
  {
   "cell_type": "markdown",
   "id": "b367bd35-b837-4634-8673-ce2db5c391c6",
   "metadata": {},
   "source": [
    "**Example 1**"
   ]
  },
  {
   "cell_type": "code",
   "execution_count": 12,
   "id": "17fdeb0c",
   "metadata": {},
   "outputs": [
    {
     "data": {
      "text/plain": [
       "6"
      ]
     },
     "execution_count": 12,
     "metadata": {},
     "output_type": "execute_result"
    }
   ],
   "source": [
    "def multiply(x, y, z):\n",
    "    return x * y * z\n",
    "\n",
    "# Let's use the function\n",
    "numbers = {'x': 1, 'y': 2, 'z': 3}\n",
    "multiply(**numbers)"
   ]
  },
  {
   "cell_type": "markdown",
   "id": "8ff1af8f-aaed-4d12-930d-add0d5729c6b",
   "metadata": {},
   "source": [
    "**Example 2**"
   ]
  },
  {
   "cell_type": "code",
   "execution_count": 15,
   "id": "0da3b555-dca3-4302-b770-604926837509",
   "metadata": {},
   "outputs": [
    {
     "data": {
      "text/plain": [
       "6"
      ]
     },
     "execution_count": 15,
     "metadata": {},
     "output_type": "execute_result"
    }
   ],
   "source": [
    "def multiply(x, y, z):\n",
    "    return x * y * z\n",
    "\n",
    "# Let's use the function\n",
    "numbers = {'y': 2, 'z': 3}\n",
    "multiply(1, **numbers)"
   ]
  },
  {
   "cell_type": "markdown",
   "id": "385f0222-0dbc-4a39-920a-848c00f4abc1",
   "metadata": {},
   "source": [
    "**Example 3**"
   ]
  },
  {
   "cell_type": "code",
   "execution_count": 16,
   "id": "33f836e3-39e2-4536-82d4-dbfacec35a21",
   "metadata": {},
   "outputs": [
    {
     "data": {
      "text/plain": [
       "14"
      ]
     },
     "execution_count": 16,
     "metadata": {},
     "output_type": "execute_result"
    }
   ],
   "source": [
    "def add_powers(numbers, power):\n",
    "    result = 0\n",
    "    for number in numbers:\n",
    "        result += number**power\n",
    "\n",
    "    return result\n",
    "\n",
    "# Let's use the function\n",
    "kwargs = {'numbers': [1, 2, 3], 'power': 2}\n",
    "add_powers(**kwargs)"
   ]
  },
  {
   "cell_type": "markdown",
   "id": "d85981e5-9774-428d-b8ea-9c5eed25fc8c",
   "metadata": {},
   "source": [
    "**Example 4**"
   ]
  },
  {
   "cell_type": "code",
   "execution_count": 17,
   "id": "8b954cb5-d31d-4220-abcf-a6e00f00b178",
   "metadata": {},
   "outputs": [
    {
     "data": {
      "text/plain": [
       "14"
      ]
     },
     "execution_count": 17,
     "metadata": {},
     "output_type": "execute_result"
    }
   ],
   "source": [
    "def add_powers(**kwargs):\n",
    "    numbers = kwargs['numbers']\n",
    "    power = kwargs['power']\n",
    "\n",
    "    result = 0\n",
    "    for number in numbers:\n",
    "        result += number**power\n",
    "\n",
    "    return result\n",
    "\n",
    "\n",
    "# Let's use the function\n",
    "add_powers(numbers=[1, 2, 3], power=2)\n",
    "kwargs = {'numbers': [1, 2, 3], 'power': 2}\n",
    "add_powers(**kwargs)"
   ]
  },
  {
   "attachments": {},
   "cell_type": "markdown",
   "id": "6ebba3b8",
   "metadata": {},
   "source": [
    "# 3 Gotchas with passing variables to functions"
   ]
  },
  {
   "attachments": {},
   "cell_type": "markdown",
   "id": "809f00b6",
   "metadata": {},
   "source": [
    "## 3.1 The Problem"
   ]
  },
  {
   "cell_type": "code",
   "execution_count": 19,
   "id": "d8e9e116-d77f-4b16-a752-13688d7204cb",
   "metadata": {},
   "outputs": [
    {
     "name": "stdout",
     "output_type": "stream",
     "text": [
      "BEFORE|\tNumber: 10, Array: [10], List: [10]\n",
      "Doing something!\n",
      "AFTER|\tNumber: 10, Array: [20], List: [10, 10]\n"
     ]
    }
   ],
   "source": [
    "import numpy as np\n",
    "\n",
    "def do_something(inside_number, inside_array, inside_list):\n",
    "    print('Doing something!')\n",
    "    inside_number *= 2\n",
    "    inside_array *= 2\n",
    "    inside_list *= 2\n",
    "\n",
    "outside_number=10\n",
    "outside_array=np.array([10])\n",
    "outside_list=[10]\n",
    "\n",
    "print(f\"BEFORE|\\tNumber: {outside_number}, Array: {outside_array}, List: {outside_list}\")\n",
    "do_something(outside_number, outside_list, outside_array)\n",
    "print(f\"AFTER|\\tNumber: {outside_number}, Array: {outside_array}, List: {outside_list}\")"
   ]
  },
  {
   "attachments": {},
   "cell_type": "markdown",
   "id": "efbddfb6",
   "metadata": {},
   "source": [
    "## 3.2 An Explanation"
   ]
  },
  {
   "cell_type": "markdown",
   "id": "d658c8fa-0e38-4773-b849-dd75c36e52f9",
   "metadata": {},
   "source": [
    "1. **‘immutable’** variables: what happens inside the function does not change the variable outside. In other languages, this behaviour is called passing by value.\n",
    "\n",
    "2. **‘mutable’** variables: what happens inside the function does change the variable outside. In other languages, this behaviour is called passing by reference."
   ]
  },
  {
   "attachments": {},
   "cell_type": "markdown",
   "id": "d34d1c9d",
   "metadata": {},
   "source": [
    "# 4 There is more to exceptions"
   ]
  },
  {
   "attachments": {},
   "cell_type": "markdown",
   "id": "49bc040c",
   "metadata": {},
   "source": [
    "## 4.1 A list of exceptions"
   ]
  },
  {
   "cell_type": "markdown",
   "id": "c72c01ce-72fd-4785-8ee6-a35083f3056e",
   "metadata": {},
   "source": [
    "| **Exception**      | **Description**                                                                                                            |\n",
    "|--------------------|----------------------------------------------------------------------------------------------------------------------------|\n",
    "| AssertionError     | Raised when the assert statement fails.                                                                                    |\n",
    "| AttributeError     | Raised on the attribute assignment or reference fails.                                                                     |\n",
    "| EOFError           | Raised when the input() function hits the end-of-file condition.                                                           |\n",
    "| FloatingPointError | Raised when a floating point operation fails.                                                                              |\n",
    "| ImportError        | Raised when the imported module is not found.                                                                              |\n",
    "| IndexError         | Raised when the index of a sequence is out of range.                                                                       |\n",
    "| KeyError           | Raised when a key is not found in a dictionary.                                                                            |\n",
    "| NameError          | Raised when a variable is not found in the local or global scope.                                                          |\n",
    "| OSError            | Raised when a system operation causes a system-related error.                                                              |\n",
    "| OverflowError      | Raised when the result of an arithmetic operation is too large to be represented.                                          |\n",
    "| RuntimeError       | Raised when an error does not fall under any other category.                                                               |\n",
    "| SyntaxError        | Raised by the parser when a syntax error is encountered.                                                                   |\n",
    "| IndentationError   | Raised when there is an incorrect indentation.                                                                             |\n",
    "| SystemError        | Raised when the interpreter detects internal error.                                                                        |\n",
    "| SystemExit         | Raised by the sys.exit() function.                                                                                         |\n",
    "| TypeError          | Raised when a function or operation is applied to an object of an incorrect type.                                          |\n",
    "| UnboundLocalError  | Raised when a reference is made to a local variable in a function or method, but no value has been bound to that variable. |\n",
    "| ValueError         | Raised when a function gets an argument of correct type but improper value.                                                |\n",
    "| ZeroDivisionError  | Raised when the second operand of a division or module operation is zero.                                                  |"
   ]
  },
  {
   "attachments": {},
   "cell_type": "markdown",
   "id": "382fe515",
   "metadata": {},
   "source": [
    "## 4.2 Handling specific exceptions"
   ]
  },
  {
   "cell_type": "code",
   "execution_count": 20,
   "id": "af4db572-9070-41f2-88ed-c77011b82a79",
   "metadata": {},
   "outputs": [
    {
     "name": "stdin",
     "output_type": "stream",
     "text": [
      "Give me a number and I will calculate its square. hahaha\n"
     ]
    },
    {
     "name": "stdout",
     "output_type": "stream",
     "text": [
      "Oh oh! I cannot square hahaha!\n"
     ]
    }
   ],
   "source": [
    "try:\n",
    "    number=input(\"Give me a number and I will calculate its square.\")\n",
    "    square=int(number)**2\n",
    "    print(f'The square of {number} is {square}!')\n",
    "except ValueError:\n",
    "    print(f\"Oh oh! I cannot square {number}!\")"
   ]
  },
  {
   "attachments": {},
   "cell_type": "markdown",
   "id": "ffdfb668",
   "metadata": {},
   "source": [
    "## 4.3 try also has an else"
   ]
  },
  {
   "cell_type": "code",
   "execution_count": 21,
   "id": "b3b7da11-2e8b-467e-8f39-074af0c256bb",
   "metadata": {},
   "outputs": [
    {
     "name": "stdin",
     "output_type": "stream",
     "text": [
      "Give me a number and I will calculate its square. 4\n"
     ]
    },
    {
     "name": "stdout",
     "output_type": "stream",
     "text": [
      "The square of 4 is 16!\n",
      "Yeah! Things ran without a problem!\n"
     ]
    }
   ],
   "source": [
    "try:\n",
    "    number=input(\"Give me a number and I will calculate its square.\")\n",
    "    square=int(number)**2\n",
    "    print(f'The square of {number} is {square}!')\n",
    "except ValueError:\n",
    "    print(f\"Oh oh! I cannot square {number}!\")\n",
    "else:\n",
    "    print('Yeah! Things ran without a problem!')"
   ]
  },
  {
   "attachments": {},
   "cell_type": "markdown",
   "id": "83c5ae83",
   "metadata": {},
   "source": [
    "# Exercises"
   ]
  },
  {
   "cell_type": "code",
   "execution_count": null,
   "id": "7de48642",
   "metadata": {},
   "outputs": [],
   "source": [
    "\n",
    "\n",
    "\n",
    "# Your solution here\n",
    "\n",
    "\n"
   ]
  },
  {
   "attachments": {},
   "cell_type": "markdown",
   "id": "e6c8ebb1",
   "metadata": {},
   "source": [
    "## Footnotes"
   ]
  }
 ],
 "metadata": {
  "kernelspec": {
   "display_name": "Python 3 (ipykernel)",
   "language": "python",
   "name": "python3"
  },
  "language_info": {
   "codemirror_mode": {
    "name": "ipython",
    "version": 3
   },
   "file_extension": ".py",
   "mimetype": "text/x-python",
   "name": "python",
   "nbconvert_exporter": "python",
   "pygments_lexer": "ipython3",
   "version": "3.11.5"
  },
  "toc": {
   "base_numbering": 1,
   "nav_menu": {},
   "number_sections": true,
   "sideBar": true,
   "skip_h1_title": false,
   "title_cell": "Table of Contents",
   "title_sidebar": "Contents",
   "toc_cell": false,
   "toc_position": {},
   "toc_section_display": true,
   "toc_window_display": false
  },
  "vscode": {
   "interpreter": {
    "hash": "31f2aee4e71d21fbe5cf8b01ff0e069b9275f58929596ceb00d14d90e3e16cd6"
   }
  }
 },
 "nbformat": 4,
 "nbformat_minor": 5
}
