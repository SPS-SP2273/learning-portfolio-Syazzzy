{
 "cells": [
  {
   "attachments": {},
   "cell_type": "markdown",
   "id": "123456",
   "metadata": {},
   "source": [
    "<div style=\"text-align:left;font-size:2em\"><span style=\"font-weight:bolder;font-size:1.25em\">SP2273 | Learning Portfolio</span><br><br><span style=\"font-weight:bold;color:darkred\">Loops (Need) Exercises</span></div>"
   ]
  },
  {
   "cell_type": "markdown",
   "id": "c353b26f-f407-43b1-be1c-40782e69fc72",
   "metadata": {},
   "source": [
    "# Exercise 1"
   ]
  },
  {
   "cell_type": "code",
   "execution_count": 1,
   "id": "89167d68-0661-40fc-959f-01d17fc8cd19",
   "metadata": {},
   "outputs": [
    {
     "name": "stdout",
     "output_type": "stream",
     "text": [
      "celcius: 0, fareheit: 32.0\n",
      "celcius: 5, fareheit: 41.0\n",
      "celcius: 10, fareheit: 50.0\n",
      "celcius: 15, fareheit: 59.0\n",
      "celcius: 20, fareheit: 68.0\n",
      "celcius: 25, fareheit: 77.0\n",
      "celcius: 30, fareheit: 86.0\n",
      "celcius: 35, fareheit: 95.0\n",
      "celcius: 40, fareheit: 104.0\n",
      "celcius: 45, fareheit: 113.0\n",
      "celcius: 50, fareheit: 122.0\n"
     ]
    }
   ],
   "source": [
    "temperatures_celsius = [\n",
    "    0, 5, 10, 15, 20, 25,\n",
    "    30, 35, 40, 45, 50\n",
    "]\n",
    "\n",
    "temperatures_farenheit = []\n",
    "\n",
    "for temp in temperatures_celsius:\n",
    "    temperatures_farenheit.append((temp*(9/5) + 32))\n",
    "\n",
    "for celsius, farenheit in zip(temperatures_celsius, temperatures_farenheit):\n",
    "    print(f'celcius: {celsius}, fareheit: {farenheit}')"
   ]
  },
  {
   "cell_type": "markdown",
   "id": "e55c1e5b-64c2-40f3-a079-303b1e3a1b3e",
   "metadata": {},
   "source": [
    "# Exercise 2"
   ]
  },
  {
   "cell_type": "code",
   "execution_count": 27,
   "id": "72f24a44-deab-492d-ac39-f932fdf495c4",
   "metadata": {},
   "outputs": [
    {
     "name": "stdout",
     "output_type": "stream",
     "text": [
      "    1 : 1\t2\t3\t4\t5\t\n",
      "    2 : 2\t4\t6\t8\t10\t\n",
      "    3 : 3\t6\t9\t12\t15\t\n",
      "    4 : 4\t8\t12\t16\t20\t\n",
      "    5 : 5\t10\t15\t20\t25\t\n"
     ]
    }
   ],
   "source": [
    "for i in range(5):\n",
    "    res = '    '\n",
    "    res += str(i + 1) + ' : '\n",
    "    for j in range(5):\n",
    "        res += str((i + 1) * ( j + 1)) + '\\t'\n",
    "    print(res)"
   ]
  }
 ],
 "metadata": {
  "kernelspec": {
   "display_name": "Python 3 (ipykernel)",
   "language": "python",
   "name": "python3"
  },
  "language_info": {
   "codemirror_mode": {
    "name": "ipython",
    "version": 3
   },
   "file_extension": ".py",
   "mimetype": "text/x-python",
   "name": "python",
   "nbconvert_exporter": "python",
   "pygments_lexer": "ipython3",
   "version": "3.11.5"
  },
  "toc": {
   "base_numbering": 1,
   "nav_menu": {},
   "number_sections": true,
   "sideBar": true,
   "skip_h1_title": false,
   "title_cell": "Table of Contents",
   "title_sidebar": "Contents",
   "toc_cell": false,
   "toc_position": {},
   "toc_section_display": true,
   "toc_window_display": false
  },
  "vscode": {
   "interpreter": {
    "hash": "31f2aee4e71d21fbe5cf8b01ff0e069b9275f58929596ceb00d14d90e3e16cd6"
   }
  }
 },
 "nbformat": 4,
 "nbformat_minor": 5
}
