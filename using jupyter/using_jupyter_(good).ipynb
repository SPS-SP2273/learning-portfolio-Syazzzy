{
 "cells": [
  {
   "attachments": {},
   "cell_type": "markdown",
   "id": "123456",
   "metadata": {},
   "source": [
    "<div style=\"text-align:left;font-size:2em\"><span style=\"font-weight:bolder;font-size:1.25em\">SP2273 | Learning Portfolio</span><br><br><span style=\"font-weight:bold;color:darkred\">Using Jupyter (Good)</span></div>"
   ]
  },
  {
   "attachments": {},
   "cell_type": "markdown",
   "id": "47e1eb1a",
   "metadata": {},
   "source": [
    "# What to expect in this chapter"
   ]
  },
  {
   "attachments": {},
   "cell_type": "markdown",
   "id": "a075911c",
   "metadata": {},
   "source": [
    "# Some tips and tricks"
   ]
  },
  {
   "attachments": {},
   "cell_type": "markdown",
   "id": "88ec63da",
   "metadata": {},
   "source": [
    "## Keyboard Shortcuts"
   ]
  },
  {
   "cell_type": "markdown",
   "id": "f84838d7-e5db-4fab-b207-1c125ddbf6d5",
   "metadata": {},
   "source": [
    "| Action                        \t|                  Shortcut                  \t|\r\n",
    "|-------------------------------\t|:------------------------------------------:\t|\r\n",
    "| Run cell                      \t| CTRL + ENTER (Windows) / CMD + ENTER (Mac) \t|\r\n",
    "| Run cell and move to next     \t|                SHIFT + ENTER               \t|\r\n",
    "| Convert cell to code cell     \t|                   ESC + Y                  \t|\r\n",
    "| Concert cell to Markdown cell \t|                   ESC + M                  \t|\r\n",
    "| Create new cell               \t|       ESC + A (above) ESC + B (below)      \t|\r\n",
    "| Copy cell(s)                  \t|                   ESC + C                  \t|\r\n",
    "| Paste cell(s)                 \t|                   ESC + V                  \t|\r\n",
    "| Merge cells                   \t|                  SHIFT + M                 \t|\r\n",
    "| Delete cell                   \t|                 ESC + D + D                \t|\r\n",
    "| Show shortcuts                \t|                   ESC + H                  \t|"
   ]
  },
  {
   "attachments": {},
   "cell_type": "markdown",
   "id": "f74371f2",
   "metadata": {},
   "source": [
    "## Things to note"
   ]
  },
  {
   "cell_type": "markdown",
   "id": "f31f1c63-ad06-4735-958a-eaf944fcdbbb",
   "metadata": {},
   "source": [
    "- To select more than 1 cell, SHIFT + UP/DOWN\n",
    "- Check carefully before using the delete command (ESC + D + D)\n",
    "- ESC + H to view and set shortcuts"
   ]
  },
  {
   "attachments": {},
   "cell_type": "markdown",
   "id": "fce42ffb",
   "metadata": {},
   "source": [
    "## Shell commands"
   ]
  },
  {
   "cell_type": "markdown",
   "id": "691c7a1e-1f7a-4fbb-afb6-6df002fde9cc",
   "metadata": {},
   "source": [
    "- !cd (print current working directory)\n",
    "- !dir (shows list of all file in the folder )"
   ]
  },
  {
   "attachments": {},
   "cell_type": "markdown",
   "id": "037b1242",
   "metadata": {},
   "source": [
    "# ~~Jupyter Extensions~~"
   ]
  },
  {
   "attachments": {},
   "cell_type": "markdown",
   "id": "2ef505fe",
   "metadata": {},
   "source": [
    "## ~~Installing the extensions~~"
   ]
  },
  {
   "attachments": {},
   "cell_type": "markdown",
   "id": "f0353faf",
   "metadata": {},
   "source": [
    "## ~~Enabling the extensions~~"
   ]
  },
  {
   "cell_type": "markdown",
   "id": "87bff205-6cbe-4bbd-93f6-124cfb3d7576",
   "metadata": {},
   "source": [
    "# Installing Notebook 7"
   ]
  },
  {
   "cell_type": "markdown",
   "id": "0b057ad9-1e8b-4652-be2f-37e82a4d8950",
   "metadata": {},
   "source": [
    "1) conda remove jupyter_contrib_nbextensions (Removing extensions that might cause possible conflicts)"
   ]
  },
  {
   "cell_type": "markdown",
   "id": "5e3a37dc-52d7-42ea-9f54-3aa7e38f349a",
   "metadata": {},
   "source": [
    "2) conda install -c conda-forge notebook=7.0.6 -y (To install notebook 7)"
   ]
  },
  {
   "attachments": {},
   "cell_type": "markdown",
   "id": "da2cecb8",
   "metadata": {},
   "source": [
    "# Shell Magic"
   ]
  },
  {
   "cell_type": "code",
   "execution_count": 3,
   "id": "b5bff44e-67cf-4b49-9dad-7fd21c9e4f92",
   "metadata": {},
   "outputs": [
    {
     "name": "stdout",
     "output_type": "stream",
     "text": [
      "16.2 ns ± 1.53 ns per loop (mean ± std. dev. of 7 runs, 100,000,000 loops each)\n"
     ]
    }
   ],
   "source": [
    "%timeit x=10"
   ]
  },
  {
   "cell_type": "code",
   "execution_count": 4,
   "id": "34816b99-42fb-4152-919e-79da2beb0079",
   "metadata": {},
   "outputs": [
    {
     "name": "stdout",
     "output_type": "stream",
     "text": [
      "30.3 ns ± 2.37 ns per loop (mean ± std. dev. of 7 runs, 10,000,000 loops each)\n"
     ]
    }
   ],
   "source": [
    "%%timeit \n",
    "x=10\n",
    "y=10\n",
    "z=10"
   ]
  },
  {
   "cell_type": "code",
   "execution_count": 5,
   "id": "09269620-6fb9-472b-bd38-fe9084379cf2",
   "metadata": {},
   "outputs": [
    {
     "data": {
      "application/json": {
       "cell": {
        "!": "OSMagics",
        "HTML": "Other",
        "SVG": "Other",
        "bash": "Other",
        "capture": "ExecutionMagics",
        "cmd": "Other",
        "code_wrap": "ExecutionMagics",
        "debug": "ExecutionMagics",
        "file": "Other",
        "html": "DisplayMagics",
        "javascript": "DisplayMagics",
        "js": "DisplayMagics",
        "latex": "DisplayMagics",
        "markdown": "DisplayMagics",
        "perl": "Other",
        "prun": "ExecutionMagics",
        "pypy": "Other",
        "python": "Other",
        "python2": "Other",
        "python3": "Other",
        "ruby": "Other",
        "script": "ScriptMagics",
        "sh": "Other",
        "svg": "DisplayMagics",
        "sx": "OSMagics",
        "system": "OSMagics",
        "time": "ExecutionMagics",
        "timeit": "ExecutionMagics",
        "writefile": "OSMagics"
       },
       "line": {
        "alias": "OSMagics",
        "alias_magic": "BasicMagics",
        "autoawait": "AsyncMagics",
        "autocall": "AutoMagics",
        "automagic": "AutoMagics",
        "autosave": "KernelMagics",
        "bookmark": "OSMagics",
        "cd": "OSMagics",
        "clear": "KernelMagics",
        "cls": "KernelMagics",
        "code_wrap": "ExecutionMagics",
        "colors": "BasicMagics",
        "conda": "PackagingMagics",
        "config": "ConfigMagics",
        "connect_info": "KernelMagics",
        "copy": "Other",
        "ddir": "Other",
        "debug": "ExecutionMagics",
        "dhist": "OSMagics",
        "dirs": "OSMagics",
        "doctest_mode": "BasicMagics",
        "echo": "Other",
        "ed": "Other",
        "edit": "KernelMagics",
        "env": "OSMagics",
        "gui": "BasicMagics",
        "hist": "Other",
        "history": "HistoryMagics",
        "killbgscripts": "ScriptMagics",
        "ldir": "Other",
        "less": "KernelMagics",
        "load": "CodeMagics",
        "load_ext": "ExtensionMagics",
        "loadpy": "CodeMagics",
        "logoff": "LoggingMagics",
        "logon": "LoggingMagics",
        "logstart": "LoggingMagics",
        "logstate": "LoggingMagics",
        "logstop": "LoggingMagics",
        "ls": "Other",
        "lsmagic": "BasicMagics",
        "macro": "ExecutionMagics",
        "magic": "BasicMagics",
        "mamba": "PackagingMagics",
        "matplotlib": "PylabMagics",
        "micromamba": "PackagingMagics",
        "mkdir": "Other",
        "more": "KernelMagics",
        "notebook": "BasicMagics",
        "page": "BasicMagics",
        "pastebin": "CodeMagics",
        "pdb": "ExecutionMagics",
        "pdef": "NamespaceMagics",
        "pdoc": "NamespaceMagics",
        "pfile": "NamespaceMagics",
        "pinfo": "NamespaceMagics",
        "pinfo2": "NamespaceMagics",
        "pip": "PackagingMagics",
        "popd": "OSMagics",
        "pprint": "BasicMagics",
        "precision": "BasicMagics",
        "prun": "ExecutionMagics",
        "psearch": "NamespaceMagics",
        "psource": "NamespaceMagics",
        "pushd": "OSMagics",
        "pwd": "OSMagics",
        "pycat": "OSMagics",
        "pylab": "PylabMagics",
        "qtconsole": "KernelMagics",
        "quickref": "BasicMagics",
        "recall": "HistoryMagics",
        "rehashx": "OSMagics",
        "reload_ext": "ExtensionMagics",
        "ren": "Other",
        "rep": "Other",
        "rerun": "HistoryMagics",
        "reset": "NamespaceMagics",
        "reset_selective": "NamespaceMagics",
        "rmdir": "Other",
        "run": "ExecutionMagics",
        "save": "CodeMagics",
        "sc": "OSMagics",
        "set_env": "OSMagics",
        "store": "StoreMagics",
        "sx": "OSMagics",
        "system": "OSMagics",
        "tb": "ExecutionMagics",
        "time": "ExecutionMagics",
        "timeit": "ExecutionMagics",
        "unalias": "OSMagics",
        "unload_ext": "ExtensionMagics",
        "who": "NamespaceMagics",
        "who_ls": "NamespaceMagics",
        "whos": "NamespaceMagics",
        "xdel": "NamespaceMagics",
        "xmode": "BasicMagics"
       }
      },
      "text/plain": [
       "Available line magics:\n",
       "%alias  %alias_magic  %autoawait  %autocall  %automagic  %autosave  %bookmark  %cd  %clear  %cls  %code_wrap  %colors  %conda  %config  %connect_info  %copy  %ddir  %debug  %dhist  %dirs  %doctest_mode  %echo  %ed  %edit  %env  %gui  %hist  %history  %killbgscripts  %ldir  %less  %load  %load_ext  %loadpy  %logoff  %logon  %logstart  %logstate  %logstop  %ls  %lsmagic  %macro  %magic  %mamba  %matplotlib  %micromamba  %mkdir  %more  %notebook  %page  %pastebin  %pdb  %pdef  %pdoc  %pfile  %pinfo  %pinfo2  %pip  %popd  %pprint  %precision  %prun  %psearch  %psource  %pushd  %pwd  %pycat  %pylab  %qtconsole  %quickref  %recall  %rehashx  %reload_ext  %ren  %rep  %rerun  %reset  %reset_selective  %rmdir  %run  %save  %sc  %set_env  %store  %sx  %system  %tb  %time  %timeit  %unalias  %unload_ext  %who  %who_ls  %whos  %xdel  %xmode\n",
       "\n",
       "Available cell magics:\n",
       "%%!  %%HTML  %%SVG  %%bash  %%capture  %%cmd  %%code_wrap  %%debug  %%file  %%html  %%javascript  %%js  %%latex  %%markdown  %%perl  %%prun  %%pypy  %%python  %%python2  %%python3  %%ruby  %%script  %%sh  %%svg  %%sx  %%system  %%time  %%timeit  %%writefile\n",
       "\n",
       "Automagic is ON, % prefix IS NOT needed for line magics."
      ]
     },
     "execution_count": 5,
     "metadata": {},
     "output_type": "execute_result"
    }
   ],
   "source": [
    "%lsmagic"
   ]
  },
  {
   "attachments": {},
   "cell_type": "markdown",
   "id": "49039610",
   "metadata": {},
   "source": [
    "# The Kernel"
   ]
  },
  {
   "attachments": {},
   "cell_type": "markdown",
   "id": "e1568ac5",
   "metadata": {},
   "source": [
    "# EX"
   ]
  },
  {
   "cell_type": "code",
   "execution_count": null,
   "id": "c6cb4811-53d6-4242-85d4-15b638c9ed05",
   "metadata": {},
   "outputs": [],
   "source": []
  }
 ],
 "metadata": {
  "kernelspec": {
   "display_name": "Python 3 (ipykernel)",
   "language": "python",
   "name": "python3"
  },
  "language_info": {
   "codemirror_mode": {
    "name": "ipython",
    "version": 3
   },
   "file_extension": ".py",
   "mimetype": "text/x-python",
   "name": "python",
   "nbconvert_exporter": "python",
   "pygments_lexer": "ipython3",
   "version": "3.11.5"
  },
  "toc": {
   "base_numbering": 1,
   "nav_menu": {},
   "number_sections": true,
   "sideBar": true,
   "skip_h1_title": false,
   "title_cell": "Table of Contents",
   "title_sidebar": "Contents",
   "toc_cell": false,
   "toc_position": {},
   "toc_section_display": true,
   "toc_window_display": false
  },
  "vscode": {
   "interpreter": {
    "hash": "31f2aee4e71d21fbe5cf8b01ff0e069b9275f58929596ceb00d14d90e3e16cd6"
   }
  }
 },
 "nbformat": 4,
 "nbformat_minor": 5
}
