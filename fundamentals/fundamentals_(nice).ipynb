{
 "cells": [
  {
   "attachments": {},
   "cell_type": "markdown",
   "id": "123456",
   "metadata": {},
   "source": [
    "<div style=\"text-align:left;font-size:2em\"><span style=\"font-weight:bolder;font-size:1.25em\">SP2273 | Learning Portfolio</span><br><br><span style=\"font-weight:bold;color:darkred\">Fundamentals (Nice)</span></div>"
   ]
  },
  {
   "attachments": {},
   "cell_type": "markdown",
   "id": "1afa792d",
   "metadata": {},
   "source": [
    "# 1 If if is not enough"
   ]
  },
  {
   "cell_type": "code",
   "execution_count": 7,
   "id": "63acd68e-f0c9-44f7-94df-8f564ad07019",
   "metadata": {},
   "outputs": [
    {
     "name": "stdout",
     "output_type": "stream",
     "text": [
      "Hello Sidekick | Normalman!\n"
     ]
    }
   ],
   "source": [
    "name = 'Normal'\n",
    "\n",
    "match name:\n",
    "    case 'Superman':\n",
    "        print('Hello Hero | Superman!')\n",
    "    case 'Normal':\n",
    "        print('Hello Sidekick | Normalman!')\n",
    "    case _:\n",
    "        print('Hello World!')"
   ]
  },
  {
   "attachments": {},
   "cell_type": "markdown",
   "id": "9045d982",
   "metadata": {},
   "source": [
    "# 2 Ternary operators or Conditional Statements"
   ]
  },
  {
   "cell_type": "markdown",
   "id": "e923efec-20d0-4c18-bdfc-ec547f814cb2",
   "metadata": {},
   "source": [
    "- Example 1"
   ]
  },
  {
   "cell_type": "code",
   "execution_count": 11,
   "id": "06edd0d3-0f69-4c87-8523-0ad6113ba1fb",
   "metadata": {},
   "outputs": [
    {
     "name": "stdout",
     "output_type": "stream",
     "text": [
      "Bonjour!\n"
     ]
    }
   ],
   "source": [
    "nationality = 'French'\n",
    "\n",
    "if nationality == 'French':\n",
    "    greeting = \"Bonjour!\"\n",
    "else:\n",
    "    greeting = \"Hello!\"\n",
    "\n",
    "print(greeting)"
   ]
  },
  {
   "cell_type": "code",
   "execution_count": 12,
   "id": "b8c72f81-01a7-4dad-a58c-878280d9925f",
   "metadata": {},
   "outputs": [
    {
     "name": "stdout",
     "output_type": "stream",
     "text": [
      "Bonjour!\n"
     ]
    }
   ],
   "source": [
    "greeting = \"Bonjour!\" if nationality == 'French' else \"Hello!\"\n",
    "print(greeting)"
   ]
  },
  {
   "cell_type": "code",
   "execution_count": 13,
   "id": "a681ad8e-5766-44be-b5a3-2aa8453afd89",
   "metadata": {},
   "outputs": [
    {
     "name": "stdout",
     "output_type": "stream",
     "text": [
      "Bonjour!\n"
     ]
    }
   ],
   "source": [
    "(\"Hello!\", \"Bonjour!\")[nationality == 'French']\n",
    "print(greeting)"
   ]
  },
  {
   "cell_type": "markdown",
   "id": "efb2aa16-cfeb-4234-8875-dd5d3462c7db",
   "metadata": {},
   "source": [
    "- Example 2"
   ]
  },
  {
   "cell_type": "code",
   "execution_count": 16,
   "id": "e8b72001-2f59-4da9-82f8-5f8b9f28525b",
   "metadata": {},
   "outputs": [
    {
     "name": "stdout",
     "output_type": "stream",
     "text": [
      "No message!\n"
     ]
    }
   ],
   "source": [
    "text = None\n",
    "message = text or \"No message!\"\n",
    "print(message)"
   ]
  },
  {
   "attachments": {},
   "cell_type": "markdown",
   "id": "5884d76c",
   "metadata": {},
   "source": [
    "# 3 Swapping values"
   ]
  },
  {
   "cell_type": "code",
   "execution_count": 18,
   "id": "2cf9cd6b-7fe1-4b8b-9b35-72b9505bd536",
   "metadata": {},
   "outputs": [
    {
     "name": "stdout",
     "output_type": "stream",
     "text": [
      "2 1\n"
     ]
    }
   ],
   "source": [
    "a, b = 1, 2\n",
    "a, b = b, a # assign value of b to a and a to b\n",
    "print(a, b)"
   ]
  },
  {
   "attachments": {},
   "cell_type": "markdown",
   "id": "31ba87ad",
   "metadata": {},
   "source": [
    "# 4 There are more types"
   ]
  },
  {
   "cell_type": "code",
   "execution_count": 21,
   "id": "d2d75bfe-ad04-4be6-99bd-bcb4bd4a0ca3",
   "metadata": {},
   "outputs": [
    {
     "name": "stdout",
     "output_type": "stream",
     "text": [
      "float          : 2.220446049250313e-16\n",
      "float16        : 0.000977\n",
      "float32        : 1.1920929e-07\n",
      "float64        : 2.220446049250313e-16\n",
      "longdouble     : 2.220446049250313e-16\n"
     ]
    }
   ],
   "source": [
    "import numpy as np\n",
    "\n",
    "my_types = [\n",
    "    float,       # Default for core Python on my machine\n",
    "    np.float16,\n",
    "    np.float32,\n",
    "    np.float64,\n",
    "    np.longdouble\n",
    "]\n",
    "\n",
    "for my_type in my_types:\n",
    "    print(f'{my_type.__name__:<15s}:', np.finfo(my_type).eps)"
   ]
  },
  {
   "attachments": {},
   "cell_type": "markdown",
   "id": "0e9fc134",
   "metadata": {},
   "source": [
    "# 5 Operator precedance"
   ]
  },
  {
   "cell_type": "markdown",
   "id": "1dddeae3-d534-4426-b05e-9891944b26dd",
   "metadata": {},
   "source": [
    "1. Highest precedence at the top, lowest at the bottom.\n",
    "2. Operators in the same box evaluate left to right."
   ]
  },
  {
   "cell_type": "markdown",
   "id": "dcf3e31d-921a-4111-a3a0-2b87e673e883",
   "metadata": {},
   "source": [
    "| **Description**                     |                   **Operator**                   |\n",
    "|-------------------------------------|:------------------------------------------------:|\n",
    "| Parentheses(grouping)               |                        ()                        |\n",
    "| Function call                       |                    f(args...)                    |\n",
    "| Slicing                             |                  x[index:index]                  |\n",
    "| Subscription                        |                     x[index]                     |\n",
    "| Attribute reference                 |                    x.attribute                   |\n",
    "| Exponentiation                      |                        **                        |\n",
    "| Bitwise not                         |                        ~x                        |\n",
    "| Positive, negative                  |                      +x, -x                      |\n",
    "| Multiplication, division, remainder |                      *, / ,%                     |\n",
    "| Addition, subtraction               |                       +, -                       |\n",
    "| Bitwise shifts                      |                      <<, >>                      |\n",
    "| Bitwise AND                         |                         &                        |\n",
    "| Bitwise XOR                         |                         ^                        |\n",
    "| Bitwise OR                          |                        \\|                        |\n",
    "| Comparisons, membership, identity   | in, not in, is, is not, <, <=, >, >=, <>, !=, == |\n",
    "| Boolean NOT                         |                       not x                      |\n",
    "| Boolean AND                         |                        and                       |\n",
    "| Boolean OR                          |                        or                        |\n",
    "| Lambda expression                   |                      lambda                      |"
   ]
  },
  {
   "attachments": {},
   "cell_type": "markdown",
   "id": "c22040d9",
   "metadata": {},
   "source": [
    "# 6 Variables in Python are just names"
   ]
  },
  {
   "attachments": {},
   "cell_type": "markdown",
   "id": "f459a46f",
   "metadata": {},
   "source": [
    "## 6.1 The Problem"
   ]
  },
  {
   "cell_type": "code",
   "execution_count": 32,
   "id": "aab3bf2d-8efe-4486-ab50-dec243020976",
   "metadata": {},
   "outputs": [
    {
     "name": "stdout",
     "output_type": "stream",
     "text": [
      "x: [1, 2, 3], y: [1, 2, 3]\n"
     ]
    }
   ],
   "source": [
    "x = [1, 2]\n",
    "y = x\n",
    "y.append(3)\n",
    "\n",
    "print(f\"x: {x}, y: {y}\")"
   ]
  },
  {
   "attachments": {},
   "cell_type": "markdown",
   "id": "fb66cbbd",
   "metadata": {},
   "source": [
    "## 6.2 An explanation"
   ]
  },
  {
   "cell_type": "code",
   "execution_count": 26,
   "id": "729d9c97-0d50-4940-8286-d16af0230108",
   "metadata": {},
   "outputs": [
    {
     "data": {
      "text/plain": [
       "'CODE 1'"
      ]
     },
     "execution_count": 26,
     "metadata": {},
     "output_type": "execute_result"
    }
   ],
   "source": [
    "'''CODE 1'''"
   ]
  },
  {
   "cell_type": "code",
   "execution_count": 27,
   "id": "0a00035c-e06c-4a1e-9f36-d5a7f8c308af",
   "metadata": {},
   "outputs": [
    {
     "name": "stdout",
     "output_type": "stream",
     "text": [
      "x: 140720704951080, y: 140720704951080, 1: 140720704951080\n"
     ]
    }
   ],
   "source": [
    "x = 1\n",
    "y = 1\n",
    "\n",
    "print(f\"x: {id(x)}, y: {id(y)}, 1: {id(1)}\")"
   ]
  },
  {
   "cell_type": "code",
   "execution_count": 28,
   "id": "fca627e9-448f-4a8f-94a4-bfffb3ca6489",
   "metadata": {},
   "outputs": [
    {
     "data": {
      "text/plain": [
       "'CODE 2'"
      ]
     },
     "execution_count": 28,
     "metadata": {},
     "output_type": "execute_result"
    }
   ],
   "source": [
    "'''CODE 2'''"
   ]
  },
  {
   "cell_type": "code",
   "execution_count": 29,
   "id": "35a59b04-2070-49aa-9353-8a197c57135e",
   "metadata": {},
   "outputs": [
    {
     "name": "stdout",
     "output_type": "stream",
     "text": [
      "x: 140720704951080, y: 140720704951112\n"
     ]
    }
   ],
   "source": [
    "x = 1\n",
    "y = x + 1\n",
    "\n",
    "print(f\"x: {id(x)}, y: {id(y)}\")"
   ]
  },
  {
   "cell_type": "markdown",
   "id": "109fd4b4-dff2-4dc9-95d2-a0b89f6b517b",
   "metadata": {},
   "source": [
    "- immutable\n",
    "    1. str\n",
    "    2. float\n",
    "    3. bool\n",
    "- mutable\n",
    "    1. list\n",
    "    2. dictionaries\n"
   ]
  },
  {
   "cell_type": "code",
   "execution_count": 31,
   "id": "7653cf7e-53c2-4f26-a46a-bfb0cf02200d",
   "metadata": {},
   "outputs": [],
   "source": [
    "# x is bound to a list object with a value [1 ,2]\n",
    "x = [1, 2]\n",
    "\n",
    "# y is bound to the SAME list object with a value [1 ,2]\n",
    "y = x\n",
    "\n",
    "# y is used to change the value of the object from  [1, 2] to [1, 2, 3]\n",
    "y.append(3)"
   ]
  },
  {
   "attachments": {},
   "cell_type": "markdown",
   "id": "61227f71",
   "metadata": {},
   "source": [
    "## 6.3 A solution"
   ]
  },
  {
   "cell_type": "code",
   "execution_count": 34,
   "id": "34323bd9-48be-487f-936d-244c407607ed",
   "metadata": {},
   "outputs": [],
   "source": [
    "y = x.copy() # this will create a copy of the list and modifying one will not affect the other"
   ]
  },
  {
   "attachments": {},
   "cell_type": "markdown",
   "id": "d5bc4af0",
   "metadata": {},
   "source": [
    "# 7 == is not the same as is"
   ]
  },
  {
   "cell_type": "markdown",
   "id": "e4ada1ff-53f1-4c83-862a-8f806f59ee68",
   "metadata": {},
   "source": [
    "- x is y checks for identity i. e., it asks if x and y are bound to the same object by comparing the ID.\n",
    "- x == y checks for equality by running a function that checks for equality (such as _eq_ of a class)."
   ]
  },
  {
   "attachments": {},
   "cell_type": "markdown",
   "id": "7736fd1c",
   "metadata": {},
   "source": [
    "## Footnotes"
   ]
  }
 ],
 "metadata": {
  "kernelspec": {
   "display_name": "Python 3 (ipykernel)",
   "language": "python",
   "name": "python3"
  },
  "language_info": {
   "codemirror_mode": {
    "name": "ipython",
    "version": 3
   },
   "file_extension": ".py",
   "mimetype": "text/x-python",
   "name": "python",
   "nbconvert_exporter": "python",
   "pygments_lexer": "ipython3",
   "version": "3.11.5"
  },
  "toc": {
   "base_numbering": 1,
   "nav_menu": {},
   "number_sections": true,
   "sideBar": true,
   "skip_h1_title": false,
   "title_cell": "Table of Contents",
   "title_sidebar": "Contents",
   "toc_cell": false,
   "toc_position": {},
   "toc_section_display": true,
   "toc_window_display": false
  },
  "vscode": {
   "interpreter": {
    "hash": "31f2aee4e71d21fbe5cf8b01ff0e069b9275f58929596ceb00d14d90e3e16cd6"
   }
  }
 },
 "nbformat": 4,
 "nbformat_minor": 5
}
