{
 "cells": [
  {
   "attachments": {},
   "cell_type": "markdown",
   "id": "123456",
   "metadata": {},
   "source": [
    "<div style=\"text-align:left;font-size:2em\"><span style=\"font-weight:bolder;font-size:1.25em\">SP2273 | Learning Portfolio</span><br><br><span style=\"font-weight:bold;color:darkred\">Fundamentals (Need)</span></div>"
   ]
  },
  {
   "attachments": {},
   "cell_type": "markdown",
   "id": "de054e3f",
   "metadata": {},
   "source": [
    "# What to expect in this chapter"
   ]
  },
  {
   "attachments": {},
   "cell_type": "markdown",
   "id": "2e38ee15",
   "metadata": {},
   "source": [
    "# 1 Functions"
   ]
  },
  {
   "cell_type": "code",
   "execution_count": 1,
   "id": "7a43358d-74eb-48d1-b908-7d2f66b793f6",
   "metadata": {},
   "outputs": [
    {
     "name": "stdout",
     "output_type": "stream",
     "text": [
      "Hello World!\n"
     ]
    }
   ],
   "source": [
    "print('Hello World!')"
   ]
  },
  {
   "attachments": {},
   "cell_type": "markdown",
   "id": "2f9aa5f8",
   "metadata": {},
   "source": [
    "# 2 Remember"
   ]
  },
  {
   "cell_type": "markdown",
   "id": "a2be99a8-d207-41c5-9176-2ec767938b24",
   "metadata": {},
   "source": [
    "- A function executes a specific task. \n",
    "- A function may or may not accept arguments\n",
    "- We can define our own functions"
   ]
  },
  {
   "attachments": {},
   "cell_type": "markdown",
   "id": "1c7448b4",
   "metadata": {},
   "source": [
    "# 3 Python is interpreted"
   ]
  },
  {
   "cell_type": "code",
   "execution_count": 5,
   "id": "d2316751-fdb6-4a8a-ac56-b3ca759b7078",
   "metadata": {},
   "outputs": [
    {
     "name": "stdout",
     "output_type": "stream",
     "text": [
      "Hello World\n",
      "Hello World again\n"
     ]
    }
   ],
   "source": [
    "print('Hello World')\n",
    "print('Hello World again')"
   ]
  },
  {
   "attachments": {},
   "cell_type": "markdown",
   "id": "10b84e6f",
   "metadata": {},
   "source": [
    "# 4 Python is sensitive."
   ]
  },
  {
   "cell_type": "code",
   "execution_count": 4,
   "id": "80a974df-e95a-424f-b013-4a852a3f6ae3",
   "metadata": {},
   "outputs": [
    {
     "name": "stdout",
     "output_type": "stream",
     "text": [
      "Hello World\n"
     ]
    },
    {
     "ename": "NameError",
     "evalue": "name 'Print' is not defined",
     "output_type": "error",
     "traceback": [
      "\u001b[1;31m---------------------------------------------------------------------------\u001b[0m",
      "\u001b[1;31mNameError\u001b[0m                                 Traceback (most recent call last)",
      "Cell \u001b[1;32mIn[4], line 2\u001b[0m\n\u001b[0;32m      1\u001b[0m \u001b[38;5;28mprint\u001b[39m(\u001b[38;5;124m'\u001b[39m\u001b[38;5;124mHello World\u001b[39m\u001b[38;5;124m'\u001b[39m)\n\u001b[1;32m----> 2\u001b[0m \u001b[43mPrint\u001b[49m(\u001b[38;5;124m'\u001b[39m\u001b[38;5;124mHello World\u001b[39m\u001b[38;5;124m'\u001b[39m)\n",
      "\u001b[1;31mNameError\u001b[0m: name 'Print' is not defined"
     ]
    }
   ],
   "source": [
    "print('Hello World')\n",
    "Print('Hello World')"
   ]
  },
  {
   "attachments": {},
   "cell_type": "markdown",
   "id": "4c50eab2",
   "metadata": {},
   "source": [
    "# 5 Remember"
   ]
  },
  {
   "cell_type": "markdown",
   "id": "32d0876c-1c82-4a1c-a4d0-669df236ec93",
   "metadata": {},
   "source": [
    "- Python is case-sensitive"
   ]
  },
  {
   "attachments": {},
   "cell_type": "markdown",
   "id": "619c8084",
   "metadata": {},
   "source": [
    "# 6 Comments"
   ]
  },
  {
   "cell_type": "code",
   "execution_count": 6,
   "id": "d1a848c4-e2ed-4c92-88fc-dfd040cbecb5",
   "metadata": {},
   "outputs": [
    {
     "name": "stdout",
     "output_type": "stream",
     "text": [
      "One\n",
      "Three\n"
     ]
    }
   ],
   "source": [
    "# This is a comment\n",
    "print('One')              # This is a comment.\n",
    "# print('Two')            # The interpreter ignores this line.\n",
    "print('Three')            # This is\n",
    "                          # also a way to\n",
    "                          # write comments"
   ]
  },
  {
   "cell_type": "code",
   "execution_count": 8,
   "id": "408e637b-60a7-43e6-ab23-fea2e8972856",
   "metadata": {},
   "outputs": [
    {
     "name": "stdout",
     "output_type": "stream",
     "text": [
      "Hello world\n"
     ]
    }
   ],
   "source": [
    "print(\"Hello world\" )     # Printing \"Hello World.\""
   ]
  },
  {
   "attachments": {},
   "cell_type": "markdown",
   "id": "fa84a467",
   "metadata": {},
   "source": [
    "# 7 Remember"
   ]
  },
  {
   "cell_type": "markdown",
   "id": "b65e41aa-965a-46cc-8df8-099972526c74",
   "metadata": {},
   "source": [
    "- Comments are used to emphasize the purpose of a code"
   ]
  },
  {
   "attachments": {},
   "cell_type": "markdown",
   "id": "91dedf27",
   "metadata": {},
   "source": [
    "# 8 = is not the same as =="
   ]
  },
  {
   "cell_type": "code",
   "execution_count": 9,
   "id": "266196f4-ca9f-40e1-bcfa-8cd12f6ef6b2",
   "metadata": {},
   "outputs": [],
   "source": [
    "name = 'Batman'   # Make name carry 'Batman'"
   ]
  },
  {
   "cell_type": "code",
   "execution_count": 10,
   "id": "86c84edf-9e20-4da3-8e87-88a16de65586",
   "metadata": {},
   "outputs": [
    {
     "data": {
      "text/plain": [
       "True"
      ]
     },
     "execution_count": 10,
     "metadata": {},
     "output_type": "execute_result"
    }
   ],
   "source": [
    "name == 'Batman'  # Tell me if name is equal to 'Batman'?\n",
    "                  # Answer:  True or False"
   ]
  },
  {
   "cell_type": "code",
   "execution_count": 11,
   "id": "e1799dda-d9b7-4b9e-8e4c-178e373a9df1",
   "metadata": {},
   "outputs": [
    {
     "data": {
      "text/plain": [
       "False"
      ]
     },
     "execution_count": 11,
     "metadata": {},
     "output_type": "execute_result"
    }
   ],
   "source": [
    "name == 'Superman'"
   ]
  },
  {
   "attachments": {},
   "cell_type": "markdown",
   "id": "55de742c",
   "metadata": {},
   "source": [
    "# 9 Remember"
   ]
  },
  {
   "cell_type": "markdown",
   "id": "9269a0a7-57ae-49d4-809a-d77053626524",
   "metadata": {},
   "source": [
    "- = is not the same as ==\n",
    "- = is used to assign a value\n",
    "- == is used to check if something is equal to something (true or false)"
   ]
  },
  {
   "attachments": {},
   "cell_type": "markdown",
   "id": "737afcdf",
   "metadata": {},
   "source": [
    "# 10 Use if to make decisions"
   ]
  },
  {
   "cell_type": "code",
   "execution_count": 12,
   "id": "45f318f2-9d9f-4378-a899-b9f35fee1a19",
   "metadata": {},
   "outputs": [
    {
     "name": "stdout",
     "output_type": "stream",
     "text": [
      "Hello Batman!\n"
     ]
    }
   ],
   "source": [
    "name = 'Batman'\n",
    "\n",
    "if name == 'Batman':\n",
    "    print('Hello Batman!')\n",
    "else:\n",
    "    print('Hello World!')"
   ]
  },
  {
   "cell_type": "code",
   "execution_count": 13,
   "id": "618049c2-04a0-42d7-b432-af1407a75c49",
   "metadata": {},
   "outputs": [
    {
     "name": "stdout",
     "output_type": "stream",
     "text": [
      "Hello World!\n"
     ]
    }
   ],
   "source": [
    "name = 'Superman'\n",
    "\n",
    "if name == 'Batman':\n",
    "    print('Hello Batman!')\n",
    "else:\n",
    "    print('Hello World!')"
   ]
  },
  {
   "attachments": {},
   "cell_type": "markdown",
   "id": "42b2bd83",
   "metadata": {},
   "source": [
    "# 11 Remember"
   ]
  },
  {
   "cell_type": "markdown",
   "id": "dc211a5a-51a2-4d8f-b96c-5f73da1d3212",
   "metadata": {},
   "source": [
    "- \"if\" is used to make decisions"
   ]
  },
  {
   "attachments": {},
   "cell_type": "markdown",
   "id": "3a8fea1d",
   "metadata": {},
   "source": [
    "# 12 Indentations (spaces) are sooo IMPORTANT!"
   ]
  },
  {
   "cell_type": "code",
   "execution_count": 14,
   "id": "84fef9c5-c44f-482a-bc99-723c7efdb869",
   "metadata": {},
   "outputs": [
    {
     "name": "stdout",
     "output_type": "stream",
     "text": [
      "10\n"
     ]
    }
   ],
   "source": [
    "x = 10\n",
    "print(x)"
   ]
  },
  {
   "cell_type": "code",
   "execution_count": 15,
   "id": "aa1ebe51-97bb-4426-8973-00ad7fb6d48f",
   "metadata": {},
   "outputs": [
    {
     "ename": "IndentationError",
     "evalue": "unexpected indent (1537435392.py, line 2)",
     "output_type": "error",
     "traceback": [
      "\u001b[1;36m  Cell \u001b[1;32mIn[15], line 2\u001b[1;36m\u001b[0m\n\u001b[1;33m    print(x)\u001b[0m\n\u001b[1;37m    ^\u001b[0m\n\u001b[1;31mIndentationError\u001b[0m\u001b[1;31m:\u001b[0m unexpected indent\n"
     ]
    }
   ],
   "source": [
    "x = 10\n",
    " print(x)"
   ]
  },
  {
   "attachments": {},
   "cell_type": "markdown",
   "id": "d906d4ae",
   "metadata": {},
   "source": [
    "# 13 Remember"
   ]
  },
  {
   "cell_type": "markdown",
   "id": "c7599ff3-3f48-4289-8ded-78d9c5176108",
   "metadata": {},
   "source": [
    "- Indentations (space) are very important in python, (use it wisely)\n",
    "- \":\" is use to designate a block of code"
   ]
  },
  {
   "attachments": {},
   "cell_type": "markdown",
   "id": "8c4e53cb",
   "metadata": {},
   "source": [
    "# 14 ‘age’ is English, age is a variable."
   ]
  },
  {
   "cell_type": "code",
   "execution_count": 16,
   "id": "a3fbd6e1-abcc-4d6d-ab7e-3f4d3f457d90",
   "metadata": {},
   "outputs": [
    {
     "ename": "NameError",
     "evalue": "name 'age' is not defined",
     "output_type": "error",
     "traceback": [
      "\u001b[1;31m---------------------------------------------------------------------------\u001b[0m",
      "\u001b[1;31mNameError\u001b[0m                                 Traceback (most recent call last)",
      "Cell \u001b[1;32mIn[16], line 1\u001b[0m\n\u001b[1;32m----> 1\u001b[0m \u001b[38;5;28mprint\u001b[39m(\u001b[43mage\u001b[49m)       \u001b[38;5;66;03m# Print the value of the variable age\u001b[39;00m\n\u001b[0;32m      2\u001b[0m \u001b[38;5;28mprint\u001b[39m(\u001b[38;5;124m\"\u001b[39m\u001b[38;5;124mage\u001b[39m\u001b[38;5;124m\"\u001b[39m)     \u001b[38;5;66;03m# Print the English word 'age'\u001b[39;00m\n",
      "\u001b[1;31mNameError\u001b[0m: name 'age' is not defined"
     ]
    }
   ],
   "source": [
    "print(age)       # Print the value of the variable age\n",
    "print(\"age\")     # Print the English word 'age'"
   ]
  },
  {
   "cell_type": "markdown",
   "id": "f5268ce1-f509-4906-8eef-c9066d83a21d",
   "metadata": {},
   "source": [
    "Error due to 'age' not being assigned a value yet"
   ]
  },
  {
   "cell_type": "code",
   "execution_count": 17,
   "id": "70d2e5f3-5cda-47d9-8b2a-e39de130c42e",
   "metadata": {},
   "outputs": [
    {
     "name": "stdout",
     "output_type": "stream",
     "text": [
      "10000000\n"
     ]
    }
   ],
   "source": [
    "age = 10000000\n",
    "print(age)"
   ]
  },
  {
   "cell_type": "code",
   "execution_count": 21,
   "id": "a0b8e528-3a24-4346-982c-6326c41bcf2e",
   "metadata": {},
   "outputs": [
    {
     "name": "stdout",
     "output_type": "stream",
     "text": [
      "You're really really old.\n"
     ]
    }
   ],
   "source": [
    "print(\"You're really really old.\")   # Using both ' and \" in a code"
   ]
  },
  {
   "attachments": {},
   "cell_type": "markdown",
   "id": "13c4eb3f",
   "metadata": {},
   "source": [
    "# 15 Brackets"
   ]
  },
  {
   "cell_type": "markdown",
   "id": "d184fe45-c844-4047-919b-d0b37c83c0ca",
   "metadata": {},
   "source": [
    "Using ( ) in python for :\n",
    "- in calls to functions\n",
    "- in mathematics"
   ]
  },
  {
   "cell_type": "code",
   "execution_count": 23,
   "id": "d9a122b4-2b5f-495e-aed5-ff9003db6ba6",
   "metadata": {},
   "outputs": [
    {
     "name": "stdout",
     "output_type": "stream",
     "text": [
      "Hello World\n"
     ]
    },
    {
     "data": {
      "text/plain": [
       "12000000"
      ]
     },
     "execution_count": 23,
     "metadata": {},
     "output_type": "execute_result"
    }
   ],
   "source": [
    "print('Hello World') # function\n",
    "( 1 + 3 )* 3000000 # mathematics"
   ]
  },
  {
   "cell_type": "markdown",
   "id": "60e00320-34e8-4816-9cd8-49ed8d6f4956",
   "metadata": {},
   "source": [
    "Using [ ] in python for:\n",
    "- lists of data"
   ]
  },
  {
   "cell_type": "code",
   "execution_count": 25,
   "id": "d53da014-31e7-4364-b42f-5bb780e0237c",
   "metadata": {},
   "outputs": [],
   "source": [
    "py_list = [1, 2, 3, 4, 5]   # A 1D list\n",
    "\n",
    "py_list_2 = [               # A 2D list\n",
    "                [1, \"A\"],      \n",
    "                [2, \"B\"],\n",
    "                [3, \"C\"],\n",
    "                [4, \"D\"],\n",
    "                [5, \"E\"]\n",
    "            ]"
   ]
  },
  {
   "cell_type": "markdown",
   "id": "32436e90-b650-4329-b420-e1287b990ad3",
   "metadata": {},
   "source": [
    "Using { } in python for:\n",
    "- stores data in a \"dictionary\""
   ]
  },
  {
   "cell_type": "code",
   "execution_count": 26,
   "id": "082b782b-332f-4295-a81d-248db2ed2300",
   "metadata": {},
   "outputs": [],
   "source": [
    "personal_info = {\n",
    "    'Names': 'Batman',\n",
    "    'Real Name': 'Bruce Wayne',\n",
    "    'Age': 55,\n",
    "    'Affiliation': 'Justice League',\n",
    "    'Universe': 'DC'\n",
    "}"
   ]
  },
  {
   "cell_type": "code",
   "execution_count": 28,
   "id": "8953cb49-2d8f-47e1-8a69-9cf8ce832454",
   "metadata": {},
   "outputs": [
    {
     "name": "stdout",
     "output_type": "stream",
     "text": [
      "Justice League\n"
     ]
    }
   ],
   "source": [
    "print(personal_info['Affiliation'])"
   ]
  },
  {
   "attachments": {},
   "cell_type": "markdown",
   "id": "54bddbb8",
   "metadata": {},
   "source": [
    "# 16 Giving Python superpowers with Packages"
   ]
  },
  {
   "attachments": {},
   "cell_type": "markdown",
   "id": "ee5207da",
   "metadata": {},
   "source": [
    "## 16.1 Some Context"
   ]
  },
  {
   "cell_type": "markdown",
   "id": "bebd1631-f35c-446e-b05a-bd2e40713d6c",
   "metadata": {},
   "source": [
    "To solve for :\n",
    "$$\n",
    "\\dfrac{1*((2 - 3) + 4) ^ 5}{6}\n",
    "$$"
   ]
  },
  {
   "cell_type": "code",
   "execution_count": 29,
   "id": "3e292152-b403-4591-bdbc-c04002333e2c",
   "metadata": {},
   "outputs": [
    {
     "data": {
      "text/plain": [
       "40.5"
      ]
     },
     "execution_count": 29,
     "metadata": {},
     "output_type": "execute_result"
    }
   ],
   "source": [
    "1 * ((2 - 3) + 4) ** 5 / 6"
   ]
  },
  {
   "cell_type": "markdown",
   "id": "0c09923e-d43c-4bbf-91d4-795f242e9fa7",
   "metadata": {},
   "source": [
    "To solve for : $\\sqrt{4}$"
   ]
  },
  {
   "cell_type": "code",
   "execution_count": 32,
   "id": "7551809b-7625-4f8d-b9fb-122eedf8253a",
   "metadata": {},
   "outputs": [
    {
     "ename": "NameError",
     "evalue": "name 'sqrt' is not defined",
     "output_type": "error",
     "traceback": [
      "\u001b[1;31m---------------------------------------------------------------------------\u001b[0m",
      "\u001b[1;31mNameError\u001b[0m                                 Traceback (most recent call last)",
      "Cell \u001b[1;32mIn[32], line 1\u001b[0m\n\u001b[1;32m----> 1\u001b[0m \u001b[43msqrt\u001b[49m(\u001b[38;5;241m4\u001b[39m) \u001b[38;5;66;03m# will not work due to lack of package\u001b[39;00m\n",
      "\u001b[1;31mNameError\u001b[0m: name 'sqrt' is not defined"
     ]
    }
   ],
   "source": [
    "sqrt(4) # will not work due to lack of package"
   ]
  },
  {
   "attachments": {},
   "cell_type": "markdown",
   "id": "547a750c",
   "metadata": {},
   "source": [
    "## 16.2 Importing the math package"
   ]
  },
  {
   "cell_type": "code",
   "execution_count": 33,
   "id": "92170ffa-e691-4ae8-b7cf-a3022e37f674",
   "metadata": {},
   "outputs": [],
   "source": [
    "import math         # Adding(importing) the functions\n",
    "                    # of the 'math' package    "
   ]
  },
  {
   "cell_type": "markdown",
   "id": "2d5cadc3-ee54-4cff-abe0-158641655dd9",
   "metadata": {},
   "source": [
    "Now, to solve for : $\\sqrt{4}$"
   ]
  },
  {
   "cell_type": "code",
   "execution_count": 34,
   "id": "7c551123-15ab-49a7-aad5-bb5b6420a55d",
   "metadata": {},
   "outputs": [
    {
     "data": {
      "text/plain": [
       "2.0"
      ]
     },
     "execution_count": 34,
     "metadata": {},
     "output_type": "execute_result"
    }
   ],
   "source": [
    "math.sqrt(4)"
   ]
  },
  {
   "attachments": {},
   "cell_type": "markdown",
   "id": "269ef0d1",
   "metadata": {},
   "source": [
    "## 16.3 Importing the numpy package"
   ]
  },
  {
   "cell_type": "code",
   "execution_count": 35,
   "id": "71226f99-502c-4a1d-8510-9119e5a26c9e",
   "metadata": {},
   "outputs": [],
   "source": [
    "import numpy as np    # Importing Numpy and giving \n",
    "                      # it an alias np \n",
    "                      # because I am lazy"
   ]
  },
  {
   "cell_type": "markdown",
   "id": "10ac6412-06a0-4556-920f-feab05d34321",
   "metadata": {},
   "source": [
    "Now, to solve for : $\\sqrt{4}$"
   ]
  },
  {
   "cell_type": "code",
   "execution_count": 37,
   "id": "2283cb1a-06ac-43e9-9e90-b9ef457fc400",
   "metadata": {},
   "outputs": [
    {
     "data": {
      "text/plain": [
       "2.0"
      ]
     },
     "execution_count": 37,
     "metadata": {},
     "output_type": "execute_result"
    }
   ],
   "source": [
    "np.sqrt(4)"
   ]
  },
  {
   "attachments": {},
   "cell_type": "markdown",
   "id": "de92adc4",
   "metadata": {},
   "source": [
    "## 16.4 Why so many packages?"
   ]
  },
  {
   "cell_type": "code",
   "execution_count": 38,
   "id": "1604243e-92e5-4f24-8cfa-1897d6b8e164",
   "metadata": {},
   "outputs": [
    {
     "data": {
      "text/plain": [
       "array([2., 3., 4.])"
      ]
     },
     "execution_count": 38,
     "metadata": {},
     "output_type": "execute_result"
    }
   ],
   "source": [
    "np.sqrt([4, 9, 16])"
   ]
  },
  {
   "attachments": {},
   "cell_type": "markdown",
   "id": "1906fafa",
   "metadata": {},
   "source": [
    "# 17 Remember"
   ]
  },
  {
   "cell_type": "markdown",
   "id": "265f4635-c690-4869-a870-d0b7ea6eb7ba",
   "metadata": {},
   "source": [
    "- Importing packages can give python \"superpowers\"\n",
    "- Only need to import packages once per notebook\n",
    "- There are different ways to import packages (with/without alias)"
   ]
  },
  {
   "attachments": {},
   "cell_type": "markdown",
   "id": "895ccdb4",
   "metadata": {},
   "source": [
    "# 18 The dot (.)"
   ]
  },
  {
   "cell_type": "code",
   "execution_count": 40,
   "id": "356ccefe-2b35-4a0e-8103-08d81da833fe",
   "metadata": {},
   "outputs": [
    {
     "data": {
      "text/plain": [
       "2.0"
      ]
     },
     "execution_count": 40,
     "metadata": {},
     "output_type": "execute_result"
    }
   ],
   "source": [
    "math.sqrt(4) # using sqrt function from math package\n",
    "np.sqrt(4) # using sqrt function from numpy package"
   ]
  },
  {
   "cell_type": "code",
   "execution_count": 41,
   "id": "f56e52a2-5793-4175-9ff2-2e2716f443e6",
   "metadata": {},
   "outputs": [
    {
     "data": {
      "text/plain": [
       "['I', 'am', 'Batman']"
      ]
     },
     "execution_count": 41,
     "metadata": {},
     "output_type": "execute_result"
    }
   ],
   "source": [
    "\"I am Batman\".split()"
   ]
  },
  {
   "cell_type": "code",
   "execution_count": 42,
   "id": "fd1f23d8-48ac-41b6-be40-c19ca1764b99",
   "metadata": {},
   "outputs": [
    {
     "ename": "SyntaxError",
     "evalue": "invalid decimal literal (3897031440.py, line 1)",
     "output_type": "error",
     "traceback": [
      "\u001b[1;36m  Cell \u001b[1;32mIn[42], line 1\u001b[1;36m\u001b[0m\n\u001b[1;33m    1234.split()\u001b[0m\n\u001b[1;37m        ^\u001b[0m\n\u001b[1;31mSyntaxError\u001b[0m\u001b[1;31m:\u001b[0m invalid decimal literal\n"
     ]
    }
   ],
   "source": [
    "1234.split()"
   ]
  },
  {
   "attachments": {},
   "cell_type": "markdown",
   "id": "cb0b4521",
   "metadata": {},
   "source": [
    "# 19 Remember"
   ]
  },
  {
   "cell_type": "markdown",
   "id": "9d368701-2c76-4ef8-bdd1-bc85e912ac70",
   "metadata": {},
   "source": [
    "- The dot(.) indicates ownership, and what it can access depends on the context."
   ]
  },
  {
   "attachments": {},
   "cell_type": "markdown",
   "id": "29bf527b",
   "metadata": {},
   "source": [
    "## Footnotes"
   ]
  }
 ],
 "metadata": {
  "kernelspec": {
   "display_name": "Python 3 (ipykernel)",
   "language": "python",
   "name": "python3"
  },
  "language_info": {
   "codemirror_mode": {
    "name": "ipython",
    "version": 3
   },
   "file_extension": ".py",
   "mimetype": "text/x-python",
   "name": "python",
   "nbconvert_exporter": "python",
   "pygments_lexer": "ipython3",
   "version": "3.11.5"
  },
  "toc": {
   "base_numbering": 1,
   "nav_menu": {},
   "number_sections": true,
   "sideBar": true,
   "skip_h1_title": false,
   "title_cell": "Table of Contents",
   "title_sidebar": "Contents",
   "toc_cell": false,
   "toc_position": {},
   "toc_section_display": true,
   "toc_window_display": false
  },
  "vscode": {
   "interpreter": {
    "hash": "31f2aee4e71d21fbe5cf8b01ff0e069b9275f58929596ceb00d14d90e3e16cd6"
   }
  }
 },
 "nbformat": 4,
 "nbformat_minor": 5
}
