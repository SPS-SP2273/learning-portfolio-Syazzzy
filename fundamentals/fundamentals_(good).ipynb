{
 "cells": [
  {
   "attachments": {},
   "cell_type": "markdown",
   "id": "123456",
   "metadata": {},
   "source": [
    "<div style=\"text-align:left;font-size:2em\"><span style=\"font-weight:bolder;font-size:1.25em\">SP2273 | Learning Portfolio</span><br><br><span style=\"font-weight:bold;color:darkred\">Fundamentals (Good)</span></div>"
   ]
  },
  {
   "attachments": {},
   "cell_type": "markdown",
   "id": "50edea84",
   "metadata": {},
   "source": [
    "# What to expect in this chapter"
   ]
  },
  {
   "attachments": {},
   "cell_type": "markdown",
   "id": "16e2f1bd",
   "metadata": {},
   "source": [
    "# 1 There is more to if"
   ]
  },
  {
   "cell_type": "code",
   "execution_count": 1,
   "id": "c4b248da-ab04-4622-90c8-e13719f016b2",
   "metadata": {},
   "outputs": [
    {
     "name": "stdout",
     "output_type": "stream",
     "text": [
      "Hello Batman!\n"
     ]
    }
   ],
   "source": [
    "name = 'Batman'\n",
    "\n",
    "if name == 'Batman':\n",
    "    print('Hello Batman!')\n",
    "elif name == 'Robin':\n",
    "    print('Hello Sidekick!')\n",
    "else:\n",
    "    print('Hello World!')"
   ]
  },
  {
   "attachments": {},
   "cell_type": "markdown",
   "id": "2b74f7b2",
   "metadata": {},
   "source": [
    "# 2 Asking questions"
   ]
  },
  {
   "cell_type": "code",
   "execution_count": 2,
   "id": "9d1c029c-33f7-4ad5-8f07-61056ce6619e",
   "metadata": {},
   "outputs": [],
   "source": [
    "fruits = ['apple', 'banana', 'pineapple', 'jackfruit', 'tomato']\n",
    "vegetables = ['celery', 'potato', 'broccoli', 'kale', 'tomato']"
   ]
  },
  {
   "cell_type": "code",
   "execution_count": 3,
   "id": "21ae2582-4c46-4775-bcd9-b9d0b7c7b5bf",
   "metadata": {},
   "outputs": [
    {
     "data": {
      "text/plain": [
       "True"
      ]
     },
     "execution_count": 3,
     "metadata": {},
     "output_type": "execute_result"
    }
   ],
   "source": [
    "'apple' in fruits"
   ]
  },
  {
   "cell_type": "code",
   "execution_count": 4,
   "id": "38056441-6547-48ab-b843-c4c07e1bfe6f",
   "metadata": {},
   "outputs": [
    {
     "data": {
      "text/plain": [
       "False"
      ]
     },
     "execution_count": 4,
     "metadata": {},
     "output_type": "execute_result"
    }
   ],
   "source": [
    "'strawberry' in fruits"
   ]
  },
  {
   "cell_type": "code",
   "execution_count": 5,
   "id": "424ad777-918a-46be-aad3-67b917443d02",
   "metadata": {},
   "outputs": [
    {
     "data": {
      "text/plain": [
       "True"
      ]
     },
     "execution_count": 5,
     "metadata": {},
     "output_type": "execute_result"
    }
   ],
   "source": [
    "'strawberry' not in fruits"
   ]
  },
  {
   "cell_type": "code",
   "execution_count": 6,
   "id": "751b1330-ea68-4452-8ece-292a1f5990f6",
   "metadata": {},
   "outputs": [
    {
     "data": {
      "text/plain": [
       "True"
      ]
     },
     "execution_count": 6,
     "metadata": {},
     "output_type": "execute_result"
    }
   ],
   "source": [
    "('apple' in fruits) and ('celery' in vegetables)"
   ]
  },
  {
   "cell_type": "code",
   "execution_count": 7,
   "id": "50f09529-cfc8-43d9-a3de-de582cb7790b",
   "metadata": {},
   "outputs": [
    {
     "data": {
      "text/plain": [
       "True"
      ]
     },
     "execution_count": 7,
     "metadata": {},
     "output_type": "execute_result"
    }
   ],
   "source": [
    "('tomato' in fruits) and ('tomato' in vegetables)"
   ]
  },
  {
   "cell_type": "code",
   "execution_count": 8,
   "id": "1eede8c7-e554-4f44-bc08-cc247c182b61",
   "metadata": {},
   "outputs": [
    {
     "data": {
      "text/plain": [
       "True"
      ]
     },
     "execution_count": 8,
     "metadata": {},
     "output_type": "execute_result"
    }
   ],
   "source": [
    "('apple' in fruits) or ('radish' in vegetables)"
   ]
  },
  {
   "cell_type": "code",
   "execution_count": 9,
   "id": "611b0265-edb9-4d12-945d-dc19164bbb04",
   "metadata": {},
   "outputs": [
    {
     "data": {
      "text/plain": [
       "False"
      ]
     },
     "execution_count": 9,
     "metadata": {},
     "output_type": "execute_result"
    }
   ],
   "source": [
    "('apple' in fruits) and ('radish' in vegetables)"
   ]
  },
  {
   "attachments": {},
   "cell_type": "markdown",
   "id": "c3cdd442",
   "metadata": {},
   "source": [
    "# 3 Remember"
   ]
  },
  {
   "cell_type": "markdown",
   "id": "2bba7b30-6596-4960-99f1-c3081c019e0a",
   "metadata": {},
   "source": [
    "Examples of Python keywords: not, in, and, or."
   ]
  },
  {
   "attachments": {},
   "cell_type": "markdown",
   "id": "224a11e5",
   "metadata": {},
   "source": [
    "## 3.1 Asking Math questions"
   ]
  },
  {
   "cell_type": "markdown",
   "id": "883570c6-587d-40b1-ba77-6eaa96c424d6",
   "metadata": {},
   "source": [
    "| Question/Condition  | Math Symbol | Python Symbol |\n",
    "|---------------------|:-----------:|:-------------:|\n",
    "| Equals?             |      =      |       ==      |\n",
    "| Not equal?          |      ≠      |       !=      |\n",
    "| Less than?          |      <      |       <       |\n",
    "| Greater than?       |      >      |       >       |\n",
    "| Less than or equal? |      ≤      |       <=      |\n",
    "| More than or equal? |      ≥      |       >=      |"
   ]
  },
  {
   "cell_type": "markdown",
   "id": "6864f5e7-447b-4b0a-a63f-daccf4ee0710",
   "metadata": {},
   "source": [
    "If x is more than 5 but less than 15, it can be written as:\n",
    "\n",
    "- x > 5 and x < 15\n",
    "- (x > 5) and (x < 15)\n",
    "- 5 < x < 15"
   ]
  },
  {
   "attachments": {},
   "cell_type": "markdown",
   "id": "3ce14337",
   "metadata": {},
   "source": [
    "# 4 Python stores information in different formats or types"
   ]
  },
  {
   "cell_type": "code",
   "execution_count": 3,
   "id": "c746257e-93e1-4534-bc7f-15335ff21569",
   "metadata": {},
   "outputs": [],
   "source": [
    "x = int(1.234)"
   ]
  },
  {
   "cell_type": "code",
   "execution_count": 5,
   "id": "456ebe59-13de-43eb-8711-f9d72c89aab3",
   "metadata": {},
   "outputs": [
    {
     "name": "stdout",
     "output_type": "stream",
     "text": [
      "1 <class 'int'>\n"
     ]
    }
   ],
   "source": [
    "print(x, type(x)) #since x is defined as (int) the answer will appear as an integer, ignoring the decimal points"
   ]
  },
  {
   "cell_type": "code",
   "execution_count": 6,
   "id": "e628a441-de1a-4919-9e46-fdd16addb193",
   "metadata": {},
   "outputs": [],
   "source": [
    "x = str(1.234)"
   ]
  },
  {
   "cell_type": "code",
   "execution_count": 7,
   "id": "54119b64-8fb7-4e07-bc07-c6440206067b",
   "metadata": {},
   "outputs": [
    {
     "name": "stdout",
     "output_type": "stream",
     "text": [
      "1.234 <class 'str'>\n"
     ]
    }
   ],
   "source": [
    "print(x, type(x)) #x defined as (str) makes it \"appear\" as an English word instead"
   ]
  },
  {
   "cell_type": "code",
   "execution_count": 8,
   "id": "d16062ae-ee1b-46f2-8a42-d9c2ab67dd7a",
   "metadata": {},
   "outputs": [],
   "source": [
    "x = float(1.234)"
   ]
  },
  {
   "cell_type": "code",
   "execution_count": 9,
   "id": "3582dd1b-24c6-4513-9e21-970a8c9682a0",
   "metadata": {},
   "outputs": [
    {
     "name": "stdout",
     "output_type": "stream",
     "text": [
      "1.234 <class 'float'>\n"
     ]
    }
   ],
   "source": [
    "print(x, type(x)) #x defined as (float) makes it appear as a decimal"
   ]
  },
  {
   "cell_type": "code",
   "execution_count": 10,
   "id": "d6e3afc5-e477-482f-b1aa-e91553f57448",
   "metadata": {},
   "outputs": [],
   "source": [
    "x = complex(1.234)"
   ]
  },
  {
   "cell_type": "code",
   "execution_count": 11,
   "id": "b310f05c-b1fa-434d-8e01-61bc48701266",
   "metadata": {},
   "outputs": [
    {
     "name": "stdout",
     "output_type": "stream",
     "text": [
      "(1.234+0j) <class 'complex'>\n"
     ]
    }
   ],
   "source": [
    "print(x, type(x)) #x defined as (complex) will make it appear as a complex number, which might include imaginary numbers"
   ]
  },
  {
   "cell_type": "code",
   "execution_count": 12,
   "id": "34dc3d69-ccd3-48e0-b72b-fab98b460f56",
   "metadata": {},
   "outputs": [
    {
     "name": "stdout",
     "output_type": "stream",
     "text": [
      "1.234 <class 'str'>\n"
     ]
    }
   ],
   "source": [
    "x = '1.234'\n",
    "print(x, type(x))"
   ]
  },
  {
   "cell_type": "code",
   "execution_count": 15,
   "id": "ef41ef75-f896-42c9-b361-1d31a8621e87",
   "metadata": {},
   "outputs": [
    {
     "name": "stdout",
     "output_type": "stream",
     "text": [
      "1.234 <class 'float'>\n"
     ]
    }
   ],
   "source": [
    "x = float(1.234) #Changing the value from (str) string to (float) decimal is known as typecasting\n",
    "print(x, type(x))"
   ]
  },
  {
   "attachments": {},
   "cell_type": "markdown",
   "id": "dafde37e",
   "metadata": {},
   "source": [
    "# 5 Never compare floats directly"
   ]
  },
  {
   "attachments": {},
   "cell_type": "markdown",
   "id": "621b2a3c",
   "metadata": {},
   "source": [
    "## 5.1 The Problem"
   ]
  },
  {
   "cell_type": "code",
   "execution_count": 15,
   "id": "2dc56c74-ff7e-4a6e-9a1e-20132743aa9c",
   "metadata": {},
   "outputs": [],
   "source": [
    "import numpy as np"
   ]
  },
  {
   "cell_type": "code",
   "execution_count": 20,
   "id": "41164bd8-dcbe-46af-b372-5e9844098afc",
   "metadata": {},
   "outputs": [
    {
     "data": {
      "text/plain": [
       "False"
      ]
     },
     "execution_count": 20,
     "metadata": {},
     "output_type": "execute_result"
    }
   ],
   "source": [
    "a = 0.1\n",
    "a3 = 0.3 \n",
    "a * 3 == a3"
   ]
  },
  {
   "cell_type": "code",
   "execution_count": 21,
   "id": "20cda3f4-bbf6-486c-beae-9f6dc93e144f",
   "metadata": {},
   "outputs": [
    {
     "data": {
      "text/plain": [
       "'0.29999999999999999'"
      ]
     },
     "execution_count": 21,
     "metadata": {},
     "output_type": "execute_result"
    }
   ],
   "source": [
    "f'{0.3:.17f}'"
   ]
  },
  {
   "attachments": {},
   "cell_type": "markdown",
   "id": "5c19506d",
   "metadata": {},
   "source": [
    "## 5.2 A solution"
   ]
  },
  {
   "cell_type": "code",
   "execution_count": 19,
   "id": "6b295e75-3312-4872-96bd-9e21fbc96c1e",
   "metadata": {},
   "outputs": [
    {
     "data": {
      "text/plain": [
       "True"
      ]
     },
     "execution_count": 19,
     "metadata": {},
     "output_type": "execute_result"
    }
   ],
   "source": [
    "eps = 1E-10\n",
    "abs(a * 3 - a3) < eps"
   ]
  },
  {
   "cell_type": "code",
   "execution_count": 20,
   "id": "feda2f3c-0c4f-4a59-aeb1-b9cb04c5c1ac",
   "metadata": {},
   "outputs": [
    {
     "data": {
      "text/plain": [
       "True"
      ]
     },
     "execution_count": 20,
     "metadata": {},
     "output_type": "execute_result"
    }
   ],
   "source": [
    "a = 0.1\n",
    "a3 = 0.3\n",
    "np.isclose(a * 3, a3)"
   ]
  },
  {
   "attachments": {},
   "cell_type": "markdown",
   "id": "93975763",
   "metadata": {},
   "source": [
    "# 6 Combining English and variables"
   ]
  },
  {
   "cell_type": "code",
   "execution_count": 2,
   "id": "d88829c4-0743-480c-8607-818bda3d9414",
   "metadata": {},
   "outputs": [
    {
     "name": "stdout",
     "output_type": "stream",
     "text": [
      "Hello Superman!\n"
     ]
    }
   ],
   "source": [
    "name = \"Superman\"\n",
    "print(f\"Hello {name}!\")"
   ]
  },
  {
   "cell_type": "code",
   "execution_count": 3,
   "id": "844b9b9e-74bd-4a65-a749-cf1b21fc2b26",
   "metadata": {},
   "outputs": [
    {
     "name": "stdout",
     "output_type": "stream",
     "text": [
      "Hello SUPERMAN!\n"
     ]
    }
   ],
   "source": [
    "name = \"Superman\"\n",
    "print(f\"Hello {name.upper()}!\")"
   ]
  },
  {
   "cell_type": "code",
   "execution_count": 4,
   "id": "2c09e367-89c1-4ab2-a78c-03695b84f1d7",
   "metadata": {},
   "outputs": [
    {
     "name": "stdout",
     "output_type": "stream",
     "text": [
      "The value of 20 squared is 400!\n"
     ]
    }
   ],
   "source": [
    "x = 20\n",
    "print(f\"The value of {x} squared is {x**2}!\")"
   ]
  },
  {
   "cell_type": "code",
   "execution_count": 5,
   "id": "d1168e36-28d0-44e4-92e2-edbddd23ee15",
   "metadata": {},
   "outputs": [
    {
     "name": "stdout",
     "output_type": "stream",
     "text": [
      "Henry Cavill is Superman.\n"
     ]
    }
   ],
   "source": [
    "text = 'Henry Cavill is Superman.'\n",
    "print(f'{text}')"
   ]
  },
  {
   "cell_type": "code",
   "execution_count": 6,
   "id": "762d7497-64f8-4bdf-8e28-8c9823fd852e",
   "metadata": {},
   "outputs": [
    {
     "name": "stdout",
     "output_type": "stream",
     "text": [
      "                         Henry Cavill is Superman.\n"
     ]
    }
   ],
   "source": [
    "print(f'{text:>50}')      # A block of 50 characters;\n",
    "                          # aligned right"
   ]
  },
  {
   "cell_type": "code",
   "execution_count": 7,
   "id": "9632326e-7420-4a72-ab52-a6b8a7f11ab1",
   "metadata": {},
   "outputs": [
    {
     "name": "stdout",
     "output_type": "stream",
     "text": [
      "            Henry Cavill is Superman.             \n"
     ]
    }
   ],
   "source": [
    "print(f'{text:^50}')      # A block of 50 characters;\n",
    "                          # aligned centre"
   ]
  },
  {
   "cell_type": "code",
   "execution_count": 8,
   "id": "d65e2f5c-ab61-43f6-88df-9787af1d9a27",
   "metadata": {},
   "outputs": [
    {
     "name": "stdout",
     "output_type": "stream",
     "text": [
      "Henry Cavill is Superman.                         \n"
     ]
    }
   ],
   "source": [
    "print(f'{text:<50}')      # A block of 50 characters;\n",
    "                          # aligned left"
   ]
  },
  {
   "cell_type": "code",
   "execution_count": 22,
   "id": "620da7d2-a571-473e-b808-dd54fb8da932",
   "metadata": {},
   "outputs": [
    {
     "name": "stdout",
     "output_type": "stream",
     "text": [
      "The square of pi to 6 decimal places is 9.869604\n"
     ]
    }
   ],
   "source": [
    "print(f'The square of pi to 6 decimal places is {np.pi**2:.6f}') # .6f tells the f-string to output the number to 6 decimal places in decimal notation"
   ]
  },
  {
   "cell_type": "code",
   "execution_count": 11,
   "id": "a4294ccc-57e5-42ee-959a-2b1f5f5a3bb9",
   "metadata": {},
   "outputs": [
    {
     "name": "stdout",
     "output_type": "stream",
     "text": [
      "The square of pi to 6 decimal places is 9.869604e+00\n"
     ]
    }
   ],
   "source": [
    "print(f'The square of pi to 6 decimal places is {np.pi**2:.6e}') # .6f tells the f-string to output the number to 6 decimal places in scientific notation"
   ]
  },
  {
   "attachments": {},
   "cell_type": "markdown",
   "id": "94ec7215",
   "metadata": {},
   "source": [
    "## 6.1 Structure of f-strings"
   ]
  },
  {
   "cell_type": "markdown",
   "id": "58c1e75c-5dcc-4a46-b4bb-96d10c015dd2",
   "metadata": {},
   "source": [
    "| Letter | Action                         | Possible Options                                                       |\n",
    "|--------|--------------------------------|------------------------------------------------------------------------|\n",
    "| X      | Variable to format             | Can be a number or string                                              |\n",
    "| >      | Alignment                      | - < (Left justified) <br> - > (Right justified) <br> - ^ (Centre justified)      |\n",
    "| 0      | Use 0's to pad the spaces      | You can use other characters like a space                              |\n",
    "| Y      | Total number of characters     |                                                                        |\n",
    "| Z      | Number of decimal places       |                                                                        |\n",
    "| W      | Specifies the type of variable | - f (float) <br> - d (integer) <br> - s (string) <br> - g (Asks Python to figure out) |"
   ]
  },
  {
   "attachments": {},
   "cell_type": "markdown",
   "id": "18220841",
   "metadata": {},
   "source": [
    "# 7 Escape sequences"
   ]
  },
  {
   "cell_type": "code",
   "execution_count": 28,
   "id": "51e36827-4329-4ac6-9536-6079c53b581a",
   "metadata": {},
   "outputs": [
    {
     "name": "stdout",
     "output_type": "stream",
     "text": [
      "Line 2\n",
      "\tLine 3\n",
      "\t\tLine 4\n"
     ]
    }
   ],
   "source": [
    "print('Line 2\\n\\tLine 3\\n\\t\\tLine 4')"
   ]
  },
  {
   "cell_type": "markdown",
   "id": "6228712a-b738-43f6-8074-90cf899bc2ab",
   "metadata": {},
   "source": [
    "| **Escape Sequence** |   **Meaning**  |\n",
    "|:-------------------:|:--------------:|\n",
    "|          \\\\'         |  Single quote  |\n",
    "|         `\\\\`        |    Backslash   |\n",
    "|          \\\\n         |     Newline    |\n",
    "|          \\\\t         | Horizontal Tab |"
   ]
  },
  {
   "cell_type": "code",
   "execution_count": 54,
   "id": "9d37c867-e0f5-44d2-b3c1-409bac630316",
   "metadata": {},
   "outputs": [
    {
     "name": "stdout",
     "output_type": "stream",
     "text": [
      "You're fifty years old.\n"
     ]
    }
   ],
   "source": [
    "print('You\\'re fifty years old.')  # use \\' to print '"
   ]
  },
  {
   "cell_type": "code",
   "execution_count": 55,
   "id": "0772bb3c-462b-4f04-9fe1-6948cfb9ea34",
   "metadata": {},
   "outputs": [
    {
     "name": "stdout",
     "output_type": "stream",
     "text": [
      "X\\Y\\Z\n"
     ]
    }
   ],
   "source": [
    "print('X\\\\Y\\\\Z') # use \\\\ to print \\"
   ]
  },
  {
   "cell_type": "code",
   "execution_count": 36,
   "id": "a0f599fe-19c2-44c7-b632-99b99ab51b42",
   "metadata": {},
   "outputs": [
    {
     "name": "stdout",
     "output_type": "stream",
     "text": [
      "X\n",
      "Y\n",
      "Z\n"
     ]
    }
   ],
   "source": [
    "print('X\\nY\\nZ')  # use \\n to print a newline"
   ]
  },
  {
   "cell_type": "code",
   "execution_count": 37,
   "id": "33d02d01-181f-4362-ae36-f778a6c3cfa5",
   "metadata": {},
   "outputs": [
    {
     "name": "stdout",
     "output_type": "stream",
     "text": [
      "X\tY\tZ\n"
     ]
    }
   ],
   "source": [
    "print('X\\tY\\tZ') # use \\t to print tabs"
   ]
  },
  {
   "attachments": {},
   "cell_type": "markdown",
   "id": "6766a961",
   "metadata": {},
   "source": [
    "# 8 Computers read = from Right to Left!"
   ]
  },
  {
   "cell_type": "code",
   "execution_count": 53,
   "id": "e48753ef-e62a-4108-be5f-9dd92945764b",
   "metadata": {},
   "outputs": [
    {
     "name": "stdout",
     "output_type": "stream",
     "text": [
      "55\n"
     ]
    }
   ],
   "source": [
    "x = 50\n",
    "y = x + 5\n",
    "print(y)"
   ]
  },
  {
   "cell_type": "code",
   "execution_count": 52,
   "id": "7f4c0df6-195b-4691-8c98-a69d48f5e854",
   "metadata": {},
   "outputs": [
    {
     "name": "stdout",
     "output_type": "stream",
     "text": [
      "55\n"
     ]
    }
   ],
   "source": [
    "y = 50\n",
    "y = y + 5 # add 5 to the current value of y and reassign the value of y to the result\n",
    "print(y)"
   ]
  },
  {
   "cell_type": "code",
   "execution_count": 51,
   "id": "7e731104-f35f-4614-9c45-d3c7c4384a2c",
   "metadata": {},
   "outputs": [
    {
     "name": "stdout",
     "output_type": "stream",
     "text": [
      "100\n",
      "100\n"
     ]
    }
   ],
   "source": [
    "x = y = 100 # assign both x and y as 100\n",
    "print(x)\n",
    "print(y)"
   ]
  },
  {
   "attachments": {},
   "cell_type": "markdown",
   "id": "f81d59b2",
   "metadata": {},
   "source": [
    "# 9 Shorter and Cleaner Code"
   ]
  },
  {
   "cell_type": "code",
   "execution_count": 50,
   "id": "cc5313e6-fd5f-4118-8052-e7f2a045c5eb",
   "metadata": {},
   "outputs": [
    {
     "data": {
      "text/plain": [
       "42"
      ]
     },
     "execution_count": 50,
     "metadata": {},
     "output_type": "execute_result"
    }
   ],
   "source": [
    "y = 40\n",
    "y = y + 2\n",
    "y\n",
    "y = 40\n",
    "y += 2    # Same as y = y + 2\n",
    "y"
   ]
  },
  {
   "cell_type": "markdown",
   "id": "f26573dd-ab9a-4d57-962d-e9ad2e166ef5",
   "metadata": {},
   "source": [
    "|                | **Long form** | **Shorthand** |\r\n",
    "|----------------|:-------------:|:-------------:|\r\n",
    "| Addition       |   y = y + 2   |     y += 2    |\r\n",
    "| Subtraction    |   y = y - 2   |     y -= 2    |\r\n",
    "| Multiplication |   y = y * 2   |     y *= 2    |\r\n",
    "| Division       |   y = y / 2   |     y /= 2    |"
   ]
  },
  {
   "attachments": {},
   "cell_type": "markdown",
   "id": "554b105a",
   "metadata": {},
   "source": [
    "# 10 Python can be a prima-donna."
   ]
  },
  {
   "cell_type": "markdown",
   "id": "45d834ca-01f6-4070-92e6-1f677acbaa8c",
   "metadata": {},
   "source": [
    "- Scroll to the end of an error message to see the real problem\n",
    "- Use print statements to help with debugging "
   ]
  },
  {
   "attachments": {},
   "cell_type": "markdown",
   "id": "6dfe262c",
   "metadata": {},
   "source": [
    "# 11 Best Practices for Scientific Computing"
   ]
  },
  {
   "cell_type": "markdown",
   "id": "cde87107-a568-4918-a387-27c403dcc0d7",
   "metadata": {},
   "source": [
    "1. Write programs for people, not computers.\n",
    "2. Optimise software only after it works correctly.\n",
    "3. Document design and purpose, not mechanics.\n",
    "4. Collaborate.\n",
    "\n",
    "- Don't pursue the right solution from the get-go. Get something to work first and then optimize"
   ]
  },
  {
   "attachments": {},
   "cell_type": "markdown",
   "id": "a97a25f8",
   "metadata": {},
   "source": [
    "# 12 Looking for help"
   ]
  },
  {
   "cell_type": "code",
   "execution_count": 57,
   "id": "b2921103-432a-4c1b-8a8c-4a5cf02a72cb",
   "metadata": {},
   "outputs": [
    {
     "name": "stdout",
     "output_type": "stream",
     "text": [
      "Help on built-in function print in module builtins:\n",
      "\n",
      "print(*args, sep=' ', end='\\n', file=None, flush=False)\n",
      "    Prints the values to a stream, or to sys.stdout by default.\n",
      "    \n",
      "    sep\n",
      "      string inserted between values, default a space.\n",
      "    end\n",
      "      string appended after the last value, default a newline.\n",
      "    file\n",
      "      a file-like object (stream); defaults to the current sys.stdout.\n",
      "    flush\n",
      "      whether to forcibly flush the stream.\n",
      "\n"
     ]
    }
   ],
   "source": [
    "help(print)"
   ]
  },
  {
   "cell_type": "markdown",
   "id": "a6264fc5-e667-4795-b699-862d010cda3d",
   "metadata": {},
   "source": [
    "- Use help to get information about functions from within Python. However, this is not recommended at this stage, just use Google, Stack overflow or ChatGPT"
   ]
  },
  {
   "attachments": {},
   "cell_type": "markdown",
   "id": "32fd9512",
   "metadata": {},
   "source": [
    "## References"
   ]
  },
  {
   "attachments": {},
   "cell_type": "markdown",
   "id": "723e8911",
   "metadata": {},
   "source": [
    "## Footnotes"
   ]
  }
 ],
 "metadata": {
  "kernelspec": {
   "display_name": "Python 3 (ipykernel)",
   "language": "python",
   "name": "python3"
  },
  "language_info": {
   "codemirror_mode": {
    "name": "ipython",
    "version": 3
   },
   "file_extension": ".py",
   "mimetype": "text/x-python",
   "name": "python",
   "nbconvert_exporter": "python",
   "pygments_lexer": "ipython3",
   "version": "3.11.5"
  },
  "toc": {
   "base_numbering": 1,
   "nav_menu": {},
   "number_sections": true,
   "sideBar": true,
   "skip_h1_title": false,
   "title_cell": "Table of Contents",
   "title_sidebar": "Contents",
   "toc_cell": false,
   "toc_position": {},
   "toc_section_display": true,
   "toc_window_display": false
  },
  "vscode": {
   "interpreter": {
    "hash": "31f2aee4e71d21fbe5cf8b01ff0e069b9275f58929596ceb00d14d90e3e16cd6"
   }
  }
 },
 "nbformat": 4,
 "nbformat_minor": 5
}
