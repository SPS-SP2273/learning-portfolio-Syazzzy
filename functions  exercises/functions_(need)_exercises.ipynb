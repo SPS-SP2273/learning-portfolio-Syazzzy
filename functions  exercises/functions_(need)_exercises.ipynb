{
 "cells": [
  {
   "attachments": {},
   "cell_type": "markdown",
   "id": "123456",
   "metadata": {},
   "source": [
    "<div style=\"text-align:left;font-size:2em\"><span style=\"font-weight:bolder;font-size:1.25em\">SP2273 | Learning Portfolio</span><br><br><span style=\"font-weight:bold;color:darkred\">Functions (Need) Exercises</span></div>"
   ]
  },
  {
   "cell_type": "markdown",
   "id": "a7aee684-a04f-45a1-9805-5faa7840cc55",
   "metadata": {},
   "source": [
    "# Exercise 1"
   ]
  },
  {
   "cell_type": "code",
   "execution_count": 2,
   "id": "96f18555-8ebf-4de8-921c-930465058819",
   "metadata": {},
   "outputs": [],
   "source": [
    "def greeting(name):\n",
    "    if name == 'Batman':\n",
    "        return 'Hello Batman! So, nice to meet you!'\n",
    "    return f'Hello {name}!'"
   ]
  },
  {
   "cell_type": "markdown",
   "id": "79e282e1-3219-4890-9c19-3adbc48e83da",
   "metadata": {},
   "source": [
    "The only line of code that comes after the if block is what we want to execute in the else block. Hence, even without the else block, when the if condition check fails, the code executed will be what the else block would have executed."
   ]
  },
  {
   "cell_type": "code",
   "execution_count": 12,
   "id": "d8f3e9b5-29d8-4de1-9a86-88aecc5d3fbb",
   "metadata": {},
   "outputs": [
    {
     "name": "stdin",
     "output_type": "stream",
     "text": [
      "please enter weight(in kilograms):  70\n",
      "please enter height(in meters):  1.7\n"
     ]
    },
    {
     "data": {
      "text/plain": [
       "'Normal weight'"
      ]
     },
     "execution_count": 12,
     "metadata": {},
     "output_type": "execute_result"
    }
   ],
   "source": [
    "def calculate_bmi(weight, height):\n",
    "    BMI = weight / (height ** 2)\n",
    "    if BMI < 18.5:\n",
    "        return 'Underweight'\n",
    "    if BMI >= 18.5 and BMI <= 24.9:\n",
    "        return 'Normal weight'\n",
    "    if BMI >= 25 and BMI <= 29.9:\n",
    "        return 'Overweight'\n",
    "    if BMI >= 30:\n",
    "        return 'Obesity'\n",
    "    return 'Invalid height and weight'\n",
    "\n",
    "weight = float(input('please enter weight(in kilograms): '))\n",
    "height = float(input('please enter height(in meters): '))\n",
    "calculate_bmi(weight, height)"
   ]
  }
 ],
 "metadata": {
  "kernelspec": {
   "display_name": "Python 3 (ipykernel)",
   "language": "python",
   "name": "python3"
  },
  "language_info": {
   "codemirror_mode": {
    "name": "ipython",
    "version": 3
   },
   "file_extension": ".py",
   "mimetype": "text/x-python",
   "name": "python",
   "nbconvert_exporter": "python",
   "pygments_lexer": "ipython3",
   "version": "3.11.5"
  },
  "toc": {
   "base_numbering": 1,
   "nav_menu": {},
   "number_sections": true,
   "sideBar": true,
   "skip_h1_title": false,
   "title_cell": "Table of Contents",
   "title_sidebar": "Contents",
   "toc_cell": false,
   "toc_position": {},
   "toc_section_display": true,
   "toc_window_display": false
  },
  "vscode": {
   "interpreter": {
    "hash": "31f2aee4e71d21fbe5cf8b01ff0e069b9275f58929596ceb00d14d90e3e16cd6"
   }
  }
 },
 "nbformat": 4,
 "nbformat_minor": 5
}
