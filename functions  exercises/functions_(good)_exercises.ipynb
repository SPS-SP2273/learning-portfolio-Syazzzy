{
 "cells": [
  {
   "attachments": {},
   "cell_type": "markdown",
   "id": "123456",
   "metadata": {},
   "source": [
    "<div style=\"text-align:left;font-size:2em\"><span style=\"font-weight:bolder;font-size:1.25em\">SP2273 | Learning Portfolio</span><br><br><span style=\"font-weight:bold;color:darkred\">Functions (Good) Exercises</span></div>"
   ]
  },
  {
   "cell_type": "markdown",
   "id": "c2bc0b76-dedd-4a4b-b720-7165763b7f8a",
   "metadata": {},
   "source": [
    "# Excersise 1"
   ]
  },
  {
   "cell_type": "code",
   "execution_count": 23,
   "id": "3c0897ab-accf-4bbf-96c5-ca514aa28da3",
   "metadata": {},
   "outputs": [
    {
     "name": "stdin",
     "output_type": "stream",
     "text": [
      "Please enter degree in celsius:  0\n"
     ]
    },
    {
     "name": "stdout",
     "output_type": "stream",
     "text": [
      "Celsius: 0.0 -> Fahrenheit: 32.0\n",
      "Celsius: 0.0 -> Fahrenheit: 32.0\n",
      "Celsius: 0.0 -> Kelvin: 273.15\n",
      "Celsius: 0.0 -> Fahrenheit: 32.0\n"
     ]
    }
   ],
   "source": [
    "def convert_celsius(temperature_celsius, target_scale = 'Fahrenheit'):\n",
    "    if target_scale == 'Kelvin':\n",
    "        return 'Celsius: ' + str(temperature_celsius) + ' -> ' + 'Kelvin: ' + str(temperature_celsius + 273.15)\n",
    "    return 'Celsius: ' + str(temperature_celsius) + ' -> ' + 'Fahrenheit: ' + str((temperature_celsius * (9/5)) + 32)\n",
    "\n",
    "temperature_celsius = float(input('Please enter degree in celsius: '))\n",
    "print(convert_celsius(temperature_celsius))\n",
    "print(convert_celsius(temperature_celsius, 'Fahrenheit'))\n",
    "print(convert_celsius(temperature_celsius, 'Kelvin'))\n",
    "print(convert_celsius(temperature_celsius, 'abc'))"
   ]
  },
  {
   "cell_type": "markdown",
   "id": "065ff36e-3ba0-42c2-bb96-0d1f2e6903e9",
   "metadata": {},
   "source": [
    "# Excersise 2"
   ]
  },
  {
   "cell_type": "code",
   "execution_count": 24,
   "id": "7fbf6ebc-09df-4b5d-996d-868e37abc80d",
   "metadata": {},
   "outputs": [
    {
     "name": "stdin",
     "output_type": "stream",
     "text": [
      "Please enter degree in fahrenheit:  32\n"
     ]
    },
    {
     "name": "stdout",
     "output_type": "stream",
     "text": [
      "Fahrenheit: 32.0 -> Celsius: 0.0\n",
      "Fahrenheit: 32.0 -> Celsius: 0.0\n",
      "Fahrenheit: 32.0 -> Kelvin: 273.15\n",
      "Fahrenheit: 32.0 -> Celsius: 0.0\n"
     ]
    }
   ],
   "source": [
    "def convert_fahrenheit(temperature_fahrenheit, target_scale = 'Celsius'):\n",
    "    if target_scale == 'Kelvin':\n",
    "        return 'Fahrenheit: ' + str(temperature_fahrenheit) + ' -> ' +  'Kelvin: ' + str(((temperature_fahrenheit - 32) * (5/9)) + 273.15)\n",
    "    return 'Fahrenheit: ' + str(temperature_fahrenheit) + ' -> ' + 'Celsius: ' + str((temperature_fahrenheit - 32) * (5/9))\n",
    "\n",
    "temperature_fahrenheit = float(input('Please enter degree in fahrenheit: '))\n",
    "print(convert_fahrenheit(temperature_fahrenheit))\n",
    "print(convert_fahrenheit(temperature_fahrenheit, 'Celcius'))\n",
    "print(convert_fahrenheit(temperature_fahrenheit, 'Kelvin'))\n",
    "print(convert_fahrenheit(temperature_fahrenheit, 'abc'))"
   ]
  },
  {
   "cell_type": "markdown",
   "id": "8128c1e8-0114-4404-9cda-c7188b4bf7bc",
   "metadata": {},
   "source": [
    "# Excersise 3"
   ]
  },
  {
   "cell_type": "code",
   "execution_count": 26,
   "id": "498092dd-013e-4299-80e2-19e263bd8730",
   "metadata": {},
   "outputs": [
    {
     "name": "stdin",
     "output_type": "stream",
     "text": [
      "Please enter temperature:  0\n"
     ]
    },
    {
     "name": "stdout",
     "output_type": "stream",
     "text": [
      "Celsius: 0.0 -> Fahrenheit: 32.0\n",
      "Celsius: 0.0 -> Kelvin: 273.15\n",
      "Fahrenheit: 0.0 -> Celsius: -17.77777777777778\n",
      "Fahrenheit: 0.0 -> Kelvin: 255.3722222222222\n",
      "Kelvin: 0.0 -> Celsius: -273.15\n",
      "Kelvin: 0.0 -> Fahrenheit: -459.66999999999996\n"
     ]
    }
   ],
   "source": [
    "def convert_temperature(temperature, source_scale, target_scale):\n",
    "    if source_scale == 'Fahrenheit':\n",
    "        return convert_fahrenheit(temperature, target_scale)\n",
    "    elif source_scale == 'Celsius':\n",
    "        return convert_celsius(temperature, target_scale)\n",
    "    elif source_scale == 'Kelvin':\n",
    "        if target_scale == 'Fahrenheit':\n",
    "            return 'Kelvin: ' + str(temperature) + ' -> ' +  'Fahrenheit: ' + str(((temperature - 273.15) * (9/5)) + 32)\n",
    "        return 'Kelvin: ' + str(temperature) + ' -> ' +   'Celsius: ' + str(temperature - 273.15)\n",
    "\n",
    "\n",
    "temperature = float(input('Please enter temperature: '))\n",
    "print(convert_temperature(temperature, 'Celsius', 'Fahrenheit'))\n",
    "print(convert_temperature(temperature, 'Celsius', 'Kelvin'))\n",
    "print(convert_temperature(temperature, 'Fahrenheit', 'Celsius'))\n",
    "print(convert_temperature(temperature, 'Fahrenheit', 'Kelvin'))\n",
    "print(convert_temperature(temperature, 'Kelvin', 'Celsius'))\n",
    "print(convert_temperature(temperature, 'Kelvin', 'Fahrenheit'))"
   ]
  }
 ],
 "metadata": {
  "kernelspec": {
   "display_name": "Python 3 (ipykernel)",
   "language": "python",
   "name": "python3"
  },
  "language_info": {
   "codemirror_mode": {
    "name": "ipython",
    "version": 3
   },
   "file_extension": ".py",
   "mimetype": "text/x-python",
   "name": "python",
   "nbconvert_exporter": "python",
   "pygments_lexer": "ipython3",
   "version": "3.11.5"
  },
  "toc": {
   "base_numbering": 1,
   "nav_menu": {},
   "number_sections": true,
   "sideBar": true,
   "skip_h1_title": false,
   "title_cell": "Table of Contents",
   "title_sidebar": "Contents",
   "toc_cell": false,
   "toc_position": {},
   "toc_section_display": true,
   "toc_window_display": false
  },
  "vscode": {
   "interpreter": {
    "hash": "31f2aee4e71d21fbe5cf8b01ff0e069b9275f58929596ceb00d14d90e3e16cd6"
   }
  }
 },
 "nbformat": 4,
 "nbformat_minor": 5
}
