{
 "cells": [
  {
   "attachments": {},
   "cell_type": "markdown",
   "id": "123456",
   "metadata": {},
   "source": [
    "<div style=\"text-align:left;font-size:2em\"><span style=\"font-weight:bolder;font-size:1.25em\">SP2273 | Learning Portfolio</span><br><br><span style=\"font-weight:bold;color:darkred\">Using Jupyter (Need), Exercises</span></div>"
   ]
  },
  {
   "attachments": {},
   "cell_type": "markdown",
   "id": "0c628e39",
   "metadata": {},
   "source": [
    "## Quadratic Equations"
   ]
  },
  {
   "attachments": {},
   "cell_type": "markdown",
   "id": "2905c054",
   "metadata": {},
   "source": [
    "### Introduction"
   ]
  },
  {
   "cell_type": "markdown",
   "id": "03e2f14e-1a37-44ed-8233-b16e574a8f4f",
   "metadata": {},
   "source": [
    "![](https://upload.wikimedia.org/wikipedia/commons/thumb/f/f8/Polynomialdeg2.svg/450px-Polynomialdeg2.svg.png)\n",
    "\n",
    "*(Image from the <u> [Wikipedia page on Quadratic equations](https://upload.wikimedia.org/wikipedia/commons/thumb/f/f8/Polynomialdeg2.svg/450px-Polynomialdeg2.svg.png)) </u>*\n",
    "\n",
    "The general form of a quadratic equation is: $$\n",
    "ax^2+bx+c=0\n",
    "$$"
   ]
  },
  {
   "attachments": {},
   "cell_type": "markdown",
   "id": "26162f16",
   "metadata": {},
   "source": [
    "### Solutions"
   ]
  },
  {
   "cell_type": "markdown",
   "id": "b1d7520b-72c3-4f82-9b9a-e0bb602ff80e",
   "metadata": {},
   "source": [
    "Provided $a \\ne 0$, we can use an elementary algebraic method called [completeing the square](https://en.wikipedia.org/wiki/Completing_the_square) to show that a quadratic equation has the following solution: $$\r\n",
    "x = \\dfrac{-b \\pm \\sqrt{b^2-4ac}}{2a}\r\n",
    "$$"
   ]
  },
  {
   "attachments": {},
   "cell_type": "markdown",
   "id": "4dacd248",
   "metadata": {},
   "source": [
    "### Discriminant"
   ]
  },
  {
   "cell_type": "markdown",
   "id": "27675299-b7dc-4610-9cdc-34b7317cf815",
   "metadata": {},
   "source": [
    "The quantity $\\Delta=b^2-4ac$ is called the **discriminant** of the equation and decides the nature of its solutions. The table below shows the various possibilities.\n",
    "|    **Discriminant**    | **Roots**                           |\n",
    "|:----------------------:|:------------------------------------|\n",
    "|   $\\Delta=b^2-4ac=0$   | A single of $-b/(2a)$               |\n",
    "| $\\Delta=b^2-4ac \\gt 0$ | Two distinct solutions              |\n",
    "| $\\Delta=b^2-4ac \\lt 0$ | No real solutions; both are complex |"
   ]
  },
  {
   "cell_type": "markdown",
   "id": "50c5a0e3-0842-4e9f-abc8-0d5cd4863642",
   "metadata": {},
   "source": [
    "1. The Git repository is a folder that contains our learning portfolio that can be found on the GitHub server.\n",
    "2. Git keeps track of the changes in code in the files in our repository.\n",
    "3. A commit specifies the file changes we desire to be recorded. A brief description of these changes will be attached to the commit to allow us to keep track of the changes we have made. \n",
    "4. A push is to share the changes we have made to  GitHub and everyone who has access to the repository.\n",
    "5. A pull is to save changes from the cloud onto our personal physical devices.\n",
    "6. The difference between GitHub and GitHub desktop is "
   ]
  }
 ],
 "metadata": {
  "kernelspec": {
   "display_name": "Python 3 (ipykernel)",
   "language": "python",
   "name": "python3"
  },
  "language_info": {
   "codemirror_mode": {
    "name": "ipython",
    "version": 3
   },
   "file_extension": ".py",
   "mimetype": "text/x-python",
   "name": "python",
   "nbconvert_exporter": "python",
   "pygments_lexer": "ipython3",
   "version": "3.11.5"
  },
  "toc": {
   "base_numbering": 1,
   "nav_menu": {},
   "number_sections": true,
   "sideBar": true,
   "skip_h1_title": false,
   "title_cell": "Table of Contents",
   "title_sidebar": "Contents",
   "toc_cell": false,
   "toc_position": {},
   "toc_section_display": true,
   "toc_window_display": false
  },
  "vscode": {
   "interpreter": {
    "hash": "31f2aee4e71d21fbe5cf8b01ff0e069b9275f58929596ceb00d14d90e3e16cd6"
   }
  }
 },
 "nbformat": 4,
 "nbformat_minor": 5
}
