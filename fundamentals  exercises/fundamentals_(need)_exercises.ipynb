{
 "cells": [
  {
   "attachments": {},
   "cell_type": "markdown",
   "id": "123456",
   "metadata": {},
   "source": [
    "<div style=\"text-align:left;font-size:2em\"><span style=\"font-weight:bolder;font-size:1.25em\">SP2273 | Learning Portfolio</span><br><br><span style=\"font-weight:bold;color:darkred\">Fundamentals (Need) Exercises</span></div>"
   ]
  },
  {
   "cell_type": "markdown",
   "id": "cae17ef0-dbfe-436c-be06-697c0325fdfa",
   "metadata": {},
   "source": [
    "# Exercise 1"
   ]
  },
  {
   "cell_type": "markdown",
   "id": "fe7a1a6c-5c6a-41de-92f8-15cdf33f8999",
   "metadata": {},
   "source": [
    "1. functions\n",
    "2. python interpreter\n",
    "3. python is case-sensitive\n",
    "4. comments\n",
    "5. = is not the same is ==\n",
    "6. if, else\n",
    "7. indentations\n",
    "8. strings are not variable even with the same name\n",
    "9. brackets (), [], {}\n",
    "10. packages\n",
    "11. the dot (.)"
   ]
  },
  {
   "cell_type": "markdown",
   "id": "45d0710f-f9b7-4efa-bc2d-d7c351e0e184",
   "metadata": {},
   "source": [
    "# Exercise 2"
   ]
  },
  {
   "cell_type": "code",
   "execution_count": 2,
   "id": "f32d5809-e694-45b7-b76b-bff85fbea25e",
   "metadata": {},
   "outputs": [
    {
     "ename": "IndentationError",
     "evalue": "unindent does not match any outer indentation level (<tokenize>, line 3)",
     "output_type": "error",
     "traceback": [
      "\u001b[1;36m  File \u001b[1;32m<tokenize>:3\u001b[1;36m\u001b[0m\n\u001b[1;33m    Print(x, y, z)\u001b[0m\n\u001b[1;37m    ^\u001b[0m\n\u001b[1;31mIndentationError\u001b[0m\u001b[1;31m:\u001b[0m unindent does not match any outer indentation level\n"
     ]
    }
   ],
   "source": [
    "x, y = 3, 4\n",
    "        z = sqrt(x*2 + y**2)\n",
    "    Print(x, y, z)"
   ]
  },
  {
   "cell_type": "code",
   "execution_count": 10,
   "id": "16365df8-74ab-4a3b-acc9-c8a4b1877324",
   "metadata": {},
   "outputs": [
    {
     "ename": "NameError",
     "evalue": "name 'sqrt' is not defined",
     "output_type": "error",
     "traceback": [
      "\u001b[1;31m---------------------------------------------------------------------------\u001b[0m",
      "\u001b[1;31mNameError\u001b[0m                                 Traceback (most recent call last)",
      "Cell \u001b[1;32mIn[10], line 2\u001b[0m\n\u001b[0;32m      1\u001b[0m x, y \u001b[38;5;241m=\u001b[39m \u001b[38;5;241m3\u001b[39m, \u001b[38;5;241m4\u001b[39m\n\u001b[1;32m----> 2\u001b[0m z \u001b[38;5;241m=\u001b[39m \u001b[43msqrt\u001b[49m(x\u001b[38;5;241m*\u001b[39m\u001b[38;5;241m2\u001b[39m \u001b[38;5;241m+\u001b[39m y\u001b[38;5;241m*\u001b[39m\u001b[38;5;241m*\u001b[39m\u001b[38;5;241m2\u001b[39m)\n\u001b[0;32m      3\u001b[0m \u001b[38;5;28mprint\u001b[39m(x, y, z)\n",
      "\u001b[1;31mNameError\u001b[0m: name 'sqrt' is not defined"
     ]
    }
   ],
   "source": [
    "x, y = 3, 4\n",
    "z = sqrt(x*2 + y**2)\n",
    "print(x, y, z)"
   ]
  },
  {
   "cell_type": "code",
   "execution_count": 9,
   "id": "abb7b787-66eb-4da6-9b5a-2c5dfee44fd7",
   "metadata": {},
   "outputs": [],
   "source": [
    "import numpy as np"
   ]
  },
  {
   "cell_type": "code",
   "execution_count": 8,
   "id": "e9a3f520-ad40-47bb-8c61-4b267fe889c0",
   "metadata": {},
   "outputs": [
    {
     "name": "stdout",
     "output_type": "stream",
     "text": [
      "3 4 5.0\n"
     ]
    }
   ],
   "source": [
    "x, y = 3, 4\n",
    "z = np.sqrt(x**2 + y**2)\n",
    "print(x, y, z)"
   ]
  },
  {
   "cell_type": "markdown",
   "id": "9a23e2fe-d9ea-46db-9f21-03733eb5f2d8",
   "metadata": {},
   "source": [
    "# Exercise 3"
   ]
  },
  {
   "cell_type": "markdown",
   "id": "e30b3720-43f5-43c8-b7ba-ddc0ea66c8ad",
   "metadata": {},
   "source": [
    "|  # \t| Term         \t|                                    Description                                    \t|\r\n",
    "|:--:\t|--------------\t|:---------------------------------------------------------------------------------:\t|\r\n",
    "|  1 \t| Function     \t| Executes a specific task based on the command we give.                            \t|\r\n",
    "|  2 \t| Arguments    \t| An input for the function                                                         \t|\r\n",
    "|  3 \t| Comments     \t| Allows for readers to better understand steps while not affecting the actual code \t|\r\n",
    "|  4 \t| Indentations \t| A space or separation                                                             \t|\r\n",
    "|  5 \t| Packages     \t| \"Add-ons\" or \"top-ups\" to better equip jupyter with more functions                \t|\r\n",
    "|  6 \t| .            \t| The dot(.) tells me which package a function belongs to                           \t|\r\n",
    "|  7 \t| :            \t| Used to designate a block of code                                                 \t|\r\n",
    "|  8 \t| []           \t| Used in lists of data                                                             \t|\r\n",
    "|  9 \t| [[[]]]       \t| Is a list in a list in a list                                                     \t|\r\n",
    "| 10 \t| {}           \t| Stores input in a database/\"dictionary\"                                           \t|"
   ]
  },
  {
   "cell_type": "markdown",
   "id": "ff591683-7afd-42c7-8c10-b4293ccc8249",
   "metadata": {},
   "source": [
    "# Exercise 4"
   ]
  },
  {
   "cell_type": "code",
   "execution_count": 13,
   "id": "ebc98051-c37f-4523-84ab-a95284e433f9",
   "metadata": {},
   "outputs": [
    {
     "data": {
      "text/plain": [
       "2.5"
      ]
     },
     "execution_count": 13,
     "metadata": {},
     "output_type": "execute_result"
    }
   ],
   "source": [
    "5/2           # Divided 5 by 2"
   ]
  },
  {
   "cell_type": "code",
   "execution_count": 20,
   "id": "e89fb614-8303-42d5-bfbe-9437adb4a5cc",
   "metadata": {},
   "outputs": [
    {
     "data": {
      "text/plain": [
       "2"
      ]
     },
     "execution_count": 20,
     "metadata": {},
     "output_type": "execute_result"
    }
   ],
   "source": [
    "5//2          # Divided 5 by 2 but does not take into account any fractional value/decimals. \n",
    "              # Therefore since 5 divided by 2 is 2.5, the answer will be given as 2 instead."
   ]
  },
  {
   "cell_type": "code",
   "execution_count": 19,
   "id": "776f437a-4d5d-4066-8ecd-e1e4060b9a63",
   "metadata": {},
   "outputs": [
    {
     "data": {
      "text/plain": [
       "1"
      ]
     },
     "execution_count": 19,
     "metadata": {},
     "output_type": "execute_result"
    }
   ],
   "source": [
    "5%2           # Divided 5 by 2 but only returns the fractional value/decimal as the remainder of the division\n",
    "              # When 5 is divided by 2, a remainder of 1 is obtained."
   ]
  }
 ],
 "metadata": {
  "kernelspec": {
   "display_name": "Python 3 (ipykernel)",
   "language": "python",
   "name": "python3"
  },
  "language_info": {
   "codemirror_mode": {
    "name": "ipython",
    "version": 3
   },
   "file_extension": ".py",
   "mimetype": "text/x-python",
   "name": "python",
   "nbconvert_exporter": "python",
   "pygments_lexer": "ipython3",
   "version": "3.11.5"
  },
  "toc": {
   "base_numbering": 1,
   "nav_menu": {},
   "number_sections": true,
   "sideBar": true,
   "skip_h1_title": false,
   "title_cell": "Table of Contents",
   "title_sidebar": "Contents",
   "toc_cell": false,
   "toc_position": {},
   "toc_section_display": true,
   "toc_window_display": false
  },
  "vscode": {
   "interpreter": {
    "hash": "31f2aee4e71d21fbe5cf8b01ff0e069b9275f58929596ceb00d14d90e3e16cd6"
   }
  }
 },
 "nbformat": 4,
 "nbformat_minor": 5
}
