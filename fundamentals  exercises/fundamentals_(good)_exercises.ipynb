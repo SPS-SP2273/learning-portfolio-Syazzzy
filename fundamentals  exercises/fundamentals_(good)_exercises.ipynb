{
 "cells": [
  {
   "attachments": {},
   "cell_type": "markdown",
   "id": "123456",
   "metadata": {},
   "source": [
    "<div style=\"text-align:left;font-size:2em\"><span style=\"font-weight:bolder;font-size:1.25em\">SP2273 | Learning Portfolio</span><br><br><span style=\"font-weight:bold;color:darkred\">Fundamentals (Good) Exercises</span></div>"
   ]
  },
  {
   "cell_type": "markdown",
   "id": "fddb40ba-8ae1-43ec-9dec-aa30d88f4c7b",
   "metadata": {},
   "source": [
    "# Step 1"
   ]
  },
  {
   "cell_type": "code",
   "execution_count": 1,
   "id": "2fc9e4cd-ed99-4783-a98b-1c2ba29e40c2",
   "metadata": {},
   "outputs": [
    {
     "name": "stdin",
     "output_type": "stream",
     "text": [
      "Give me a number? 100\n"
     ]
    },
    {
     "name": "stdout",
     "output_type": "stream",
     "text": [
      "You entered 100\n"
     ]
    }
   ],
   "source": [
    "user_input = input('Give me a number?')\n",
    "print('You entered', user_input)"
   ]
  },
  {
   "cell_type": "markdown",
   "id": "d990cb34-a6a7-4871-9078-0085f71bd667",
   "metadata": {},
   "source": [
    "# Task"
   ]
  },
  {
   "cell_type": "code",
   "execution_count": null,
   "id": "74c3f6f6-511c-4313-983d-6a7d26fc8e3a",
   "metadata": {},
   "outputs": [],
   "source": [
    "user_input = int(input('Enter the student\\'s score: '))\n",
    "\n",
    "grade = ''\n",
    "if user_input >= 70 and user_input <= 100:\n",
    "    grade = 'A'\n",
    "if user_input >= 50 and user_input <= 69:\n",
    "    grade = 'B'\n",
    "if user_input >= 35 and user_input <= 49:\n",
    "    grade = 'C'\n",
    "if user_input >= 0 and user_input <= 34:\n",
    "    grade = 'Fail'\n",
    "\n",
    "if user_input < 0 or user_input > 100:\n",
    "    print('The score entered is not valid, enter a score between 0 and 100.')\n",
    "else:\n",
    "    print('The student\\'s letter grade is: ', grade)"
   ]
  }
 ],
 "metadata": {
  "kernelspec": {
   "display_name": "Python 3 (ipykernel)",
   "language": "python",
   "name": "python3"
  },
  "language_info": {
   "codemirror_mode": {
    "name": "ipython",
    "version": 3
   },
   "file_extension": ".py",
   "mimetype": "text/x-python",
   "name": "python",
   "nbconvert_exporter": "python",
   "pygments_lexer": "ipython3",
   "version": "3.11.5"
  },
  "toc": {
   "base_numbering": 1,
   "nav_menu": {},
   "number_sections": true,
   "sideBar": true,
   "skip_h1_title": false,
   "title_cell": "Table of Contents",
   "title_sidebar": "Contents",
   "toc_cell": false,
   "toc_position": {},
   "toc_section_display": true,
   "toc_window_display": false
  },
  "vscode": {
   "interpreter": {
    "hash": "31f2aee4e71d21fbe5cf8b01ff0e069b9275f58929596ceb00d14d90e3e16cd6"
   }
  }
 },
 "nbformat": 4,
 "nbformat_minor": 5
}
